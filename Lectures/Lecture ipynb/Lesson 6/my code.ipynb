{
 "cells": [
  {
   "cell_type": "code",
   "execution_count": 11,
   "id": "4861c42e",
   "metadata": {},
   "outputs": [
    {
     "name": "stdout",
     "output_type": "stream",
     "text": [
      "Probability of getting 1: 167.000\n",
      "Probability of getting 2: 176.000\n",
      "Probability of getting 3: 170.000\n",
      "Probability of getting 4: 175.000\n",
      "Probability of getting 5: 160.000\n",
      "Probability of getting 6: 152.000\n"
     ]
    }
   ],
   "source": [
    "import numpy as np\n",
    "\n",
    "# Possible die faces\n",
    "dice_data = np.array([i for i in range(1, 7)])\n",
    "\n",
    "# Number of trials\n",
    "calc_steps = 1000\n",
    "\n",
    "# Simulate 1000 rolls\n",
    "dice_rolls = np.random.choice(dice_data, calc_steps)\n",
    "\n",
    "# Computerelative frequencies\n",
    "for i in range(1, 7):\n",
    "    p = len(dice_rolls[dice_rolls== i] / calc_steps)\n",
    "    print(f\"Probability of getting {i}: {p:.3f}\")"
   ]
  },
  {
   "cell_type": "code",
   "execution_count": 12,
   "id": "7e5cbdef",
   "metadata": {},
   "outputs": [
    {
     "ename": "NameError",
     "evalue": "name 'default' is not defined",
     "output_type": "error",
     "traceback": [
      "\u001b[1;31m---------------------------------------------------------------------------\u001b[0m",
      "\u001b[1;31mNameError\u001b[0m                                 Traceback (most recent call last)",
      "Cell \u001b[1;32mIn[12], line 1\u001b[0m\n\u001b[1;32m----> 1\u001b[0m \u001b[38;5;28;01mdef\u001b[39;00m \u001b[38;5;21mfunction_name\u001b[39m(param1, param2\u001b[38;5;241m=\u001b[39mdefault):\n\u001b[0;32m      2\u001b[0m \u001b[38;5;250m    \u001b[39m\u001b[38;5;124;03m\"\"\"\"Short docstring explaining what the function does.\"\"\"\u001b[39;00m\n\u001b[0;32m      3\u001b[0m     \u001b[38;5;66;03m# 1. (optional) set-up or calculations\u001b[39;00m\n\u001b[0;32m      4\u001b[0m     \u001b[38;5;66;03m# 2. main computation\u001b[39;00m\n",
      "\u001b[1;31mNameError\u001b[0m: name 'default' is not defined"
     ]
    }
   ],
   "source": [
    "def function_name(param1, param2=default):\n",
    "    \"\"\"\"Short docstring explaining what the function does.\"\"\"\n",
    "    # 1. (optional) set-up or calculations\n",
    "    # 2. main computation\n",
    "    result = ...\n",
    "    return result"
   ]
  },
  {
   "cell_type": "code",
   "execution_count": 14,
   "id": "42965bee",
   "metadata": {},
   "outputs": [
    {
     "data": {
      "text/plain": [
       "['T', 'T', 'H', 'H', 'T']"
      ]
     },
     "execution_count": 14,
     "metadata": {},
     "output_type": "execute_result"
    }
   ],
   "source": [
    "import random\n",
    "\n",
    "def coin_tosses(n):\n",
    "    \"\"\"Return a list with n coin-toss results ('H' or 'T').\"\"\"\n",
    "    return [random.choice(['H', 'T']) for _ in range(n)]\n",
    "\n",
    "coin_tosses(5)"
   ]
  },
  {
   "cell_type": "code",
   "execution_count": 15,
   "id": "627644de",
   "metadata": {},
   "outputs": [
    {
     "ename": "SyntaxError",
     "evalue": "incomplete input (2044101310.py, line 10)",
     "output_type": "error",
     "traceback": [
      "\u001b[1;36m  Cell \u001b[1;32mIn[15], line 10\u001b[1;36m\u001b[0m\n\u001b[1;33m    #behaviour that uses the internal state\u001b[0m\n\u001b[1;37m                                           ^\u001b[0m\n\u001b[1;31mSyntaxError\u001b[0m\u001b[1;31m:\u001b[0m incomplete input\n"
     ]
    }
   ],
   "source": [
    "class ClassName:\n",
    "    \"\"\"Short one-line description.\"\"\"\n",
    "\n",
    "    def __init__(self, arg1, arg2):\n",
    "        #store initial state\n",
    "        self.arg1 = arg1\n",
    "        self.arg2 = arg2\n",
    "\n",
    "    def method_name(self, x):\n",
    "        #behaviour that uses the internal state"
   ]
  },
  {
   "cell_type": "code",
   "execution_count": 17,
   "id": "f42106a7",
   "metadata": {},
   "outputs": [
    {
     "data": {
      "text/plain": [
       "4"
      ]
     },
     "execution_count": 17,
     "metadata": {},
     "output_type": "execute_result"
    }
   ],
   "source": [
    "class Dice:\n",
    "    \"\"\"A fair six-sided die.\"\"\"\n",
    "\n",
    "    def __init__(self):\n",
    "        self.faces = (1, 2, 3, 4, 5, 6)\n",
    "    \n",
    "    def roll(self):\n",
    "        \"\"\"Return one random face value.\"\"\"\n",
    "        return random.choice(self.faces)\n",
    "\n",
    "d = Dice()\n",
    "d.roll()"
   ]
  },
  {
   "cell_type": "code",
   "execution_count": 18,
   "id": "5f78eee5",
   "metadata": {},
   "outputs": [
    {
     "data": {
      "text/plain": [
       "[2, 5, 3, 4, 4]"
      ]
     },
     "execution_count": 18,
     "metadata": {},
     "output_type": "execute_result"
    }
   ],
   "source": [
    "def roll_many(n):\n",
    "    \"\"\"Return a list with n dice rolls.\"\"\"\n",
    "    dice = Dice()\n",
    "    return [dice.roll() for _ in range(n)]\n",
    "\n",
    "roll_many(5)"
   ]
  },
  {
   "cell_type": "code",
   "execution_count": 20,
   "id": "adbde415",
   "metadata": {},
   "outputs": [],
   "source": [
    "import enum\n",
    "\n",
    "# An Enum is a typed set of named values. It makes\n",
    "# the code more descriptive and less error-prone.\n",
    "\n",
    "class Kid(enum.Enum):\n",
    "    BOY = 0\n",
    "    GIRL = 1\n",
    "\n",
    "def random_kid() -> Kid:\n",
    "    \"\"\"Return Kid.BOY or Kid.GIRL with equal prob.\"\"\"\n",
    "    return random.choice([Kid.BOY, Kid.GIRL])"
   ]
  },
  {
   "cell_type": "code",
   "execution_count": 22,
   "id": "c913ac1c",
   "metadata": {},
   "outputs": [
    {
     "name": "stdout",
     "output_type": "stream",
     "text": [
      "P(both | older):  0.4949290060851927\n",
      "P(both | either):  0.32232496697490093\n"
     ]
    }
   ],
   "source": [
    "random.seed(0)\n",
    "both_girls = 0\n",
    "older_girl = 0\n",
    "either_girl = 0\n",
    "\n",
    "for _ in range(1000):\n",
    "    younger = random_kid()\n",
    "    older = random_kid()\n",
    "\n",
    "    if older == Kid.GIRL:\n",
    "        older_girl += 1\n",
    "    if older == Kid.GIRL and younger == Kid.GIRL:\n",
    "        both_girls += 1\n",
    "    if older == Kid.GIRL or younger == Kid.GIRL:\n",
    "        either_girl += 1\n",
    "\n",
    "print(\"P(both | older): \", both_girls / older_girl) # # P(both | older) = 1/2\n",
    "print(\"P(both | either): \", both_girls / either_girl) # # P(both | either) = 1/3"
   ]
  },
  {
   "cell_type": "code",
   "execution_count": 23,
   "id": "85e3833d",
   "metadata": {},
   "outputs": [
    {
     "name": "stdout",
     "output_type": "stream",
     "text": [
      "0.49514563106796117\n"
     ]
    }
   ],
   "source": [
    "import math\n",
    "\n",
    "def experiment(trials=1000000):\n",
    "    have_disease = 0\n",
    "    two_pos_and_disease = 0\n",
    "    two_pos = 0\n",
    "\n",
    "    for _ in range(trials):\n",
    "        #true disease status\n",
    "        d = random.random() < 0.0001\n",
    "\n",
    "        #two independent tests\n",
    "        t1 = (random.random() < (0.99 if d else 0.01))\n",
    "        t2 = (random.random() < (0.99 if d else 0.01))\n",
    "\n",
    "        if t1 and t2:\n",
    "            two_pos += 1\n",
    "            if d:\n",
    "                two_pos_and_disease += 1\n",
    "    \n",
    "    return two_pos_and_disease / two_pos\n",
    "\n",
    "print(experiment())"
   ]
  },
  {
   "cell_type": "code",
   "execution_count": null,
   "id": "a55fa7c2",
   "metadata": {},
   "outputs": [],
   "source": []
  }
 ],
 "metadata": {
  "kernelspec": {
   "display_name": "base",
   "language": "python",
   "name": "python3"
  },
  "language_info": {
   "codemirror_mode": {
    "name": "ipython",
    "version": 3
   },
   "file_extension": ".py",
   "mimetype": "text/x-python",
   "name": "python",
   "nbconvert_exporter": "python",
   "pygments_lexer": "ipython3",
   "version": "3.12.7"
  }
 },
 "nbformat": 4,
 "nbformat_minor": 5
}
