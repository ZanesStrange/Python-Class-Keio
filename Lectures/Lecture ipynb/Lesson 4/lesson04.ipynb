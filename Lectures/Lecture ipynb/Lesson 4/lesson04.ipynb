{
 "cells": [
  {
   "cell_type": "markdown",
   "id": "ae029a5e-2e12-444a-bb23-04eef10eea7a",
   "metadata": {},
   "source": [
    "# Visualizing Data: Matplotlib \\& Descriptive Statistics\n",
    "## Importing Libraries"
   ]
  },
  {
   "cell_type": "code",
   "execution_count": 2,
   "id": "3b641f50-7d0b-4bdf-b522-194a8efcbc74",
   "metadata": {},
   "outputs": [],
   "source": [
    "import matplotlib.pyplot as plt\n",
    "import seaborn as sns\n",
    "%matplotlib inline\n",
    "import numpy as np\n",
    "import pandas as pd"
   ]
  },
  {
   "cell_type": "markdown",
   "id": "1bee4156-5a40-4551-81e0-1ca0bd6fb91c",
   "metadata": {},
   "source": [
    "## Scatter Plot Example"
   ]
  },
  {
   "cell_type": "code",
   "execution_count": 3,
   "id": "3227a325-5810-40a5-a31b-530675ca73ef",
   "metadata": {},
   "outputs": [],
   "source": [
    "\n",
    "# Set seed for generating random numbers\n",
    "np.random.seed(0)\n",
    "\n",
    "# Define values for x-axis\n",
    "x = np.random.randn(30)\n",
    "# Define values for y-axis\n",
    "y = np.sin(x) + np.random.rand(30)\n",
    "\n",
    "# Set the graph size\n",
    "plt.figure(figsize=(20,6))\n",
    "\n",
    "# Display the graph\n",
    "plt.plot(x, y, 'o')\n",
    "# Alternatively, you can use scatter\n",
    "plt.scatter(x, y)\n",
    "\n",
    "# Title\n",
    "plt.title('Scatter plot for x and y')\n",
    "# Name labels\n",
    "plt.xlabel('X')\n",
    "plt.ylabel('Y')\n",
    "# Show grid\n",
    "plt.grid(True)"
   ]
  },
  {
   "cell_type": "markdown",
   "id": "62d95a1c-43f4-44ff-b2ba-b74da2c66cf0",
   "metadata": {},
   "source": [
    "## Line Plot Example: X vs. Y"
   ]
  },
  {
   "cell_type": "code",
   "execution_count": 4,
   "id": "6fc08128-67e5-4d9b-a78d-dd4933dd3fa1",
   "metadata": {},
   "outputs": [],
   "source": [
    "# Plot continuous line\n",
    "np.random.seed(0)\n",
    "\n",
    "# Domain of the data\n",
    "x_data = np.arange(1000)\n",
    "# Rank of data. Cumulative sum of samples of normal distribution.\n",
    "y_data = np.random.randn(1000).cumsum()\n",
    "\n",
    "# Plot size\n",
    "plt.figure(figsize=(15,6))\n",
    "\n",
    "# Set label as legend in the options of plot\n",
    "plt.plot(x_data, y_data,label='cumsum')\n",
    "plt.legend()\n",
    "\n",
    "plt.xlabel('X')\n",
    "plt.xlabel('Y')\n",
    "plt.grid(True)"
   ]
  },
  {
   "cell_type": "markdown",
   "id": "5dcdaf01-da24-471e-a85a-9dfa720371e4",
   "metadata": {},
   "source": [
    "## Subplots"
   ]
  },
  {
   "cell_type": "code",
   "execution_count": 5,
   "id": "2c75eada-6172-4c39-a971-a26e2e452376",
   "metadata": {},
   "outputs": [],
   "source": [
    "plt.figure(figsize=(20,9))\n",
    "\n",
    "# Define the first subplot of a plot of 2 rows and 1 column\n",
    "plt.subplot(2,1,1)\n",
    "\n",
    "# Let's define the domain of out function from -10 to 10 with 100 subintervals\n",
    "x = np.linspace(-10, 10, 100)\n",
    "plt.plot(x, np.sin(x))\n",
    "\n",
    "# The second subplot\n",
    "plt.subplot(2,1,2)\n",
    "plt.plot(x, np.sin(2*x))\n",
    "plt.grid(True)\n",
    "plt.savefig(\"output_graph_3.png\")"
   ]
  },
  {
   "cell_type": "markdown",
   "id": "4125b3dc-faaf-4282-b54a-7afd2d81cd3b",
   "metadata": {},
   "source": [
    "## Histogram Example"
   ]
  },
  {
   "cell_type": "code",
   "execution_count": 6,
   "id": "3ffbe53f-0310-411c-96a6-a39e996ba970",
   "metadata": {},
   "outputs": [],
   "source": [
    "# Fix the seed\n",
    "np.random.seed(0)\n",
    "\n",
    "# Define the size of the histogram\n",
    "plt.figure(figsize=(20, 7))\n",
    "\n",
    "# Define the data as a sample of a normal distribution with scale 10 and localization 50\n",
    "data_norm = 10 * np.random.randn(10 ** 5) + 50\n",
    "\n",
    "# Plot histogram\n",
    "plt.hist(data_norm, bins = 60, range=(20, 80))\n",
    "\n",
    "plt.grid(True)\n",
    "plt.savefig(\"output_graph_4.png\")"
   ]
  },
  {
   "cell_type": "markdown",
   "id": "3a4f7b79-8828-4120-840b-4cc04dc9d607",
   "metadata": {},
   "source": [
    "## Importing Data from the Web"
   ]
  },
  {
   "cell_type": "code",
   "execution_count": 7,
   "id": "a8bfc56c-0772-4222-844a-a88869ad7903",
   "metadata": {},
   "outputs": [],
   "source": [
    "# Modules to get data from internet and handling zip files\n",
    "import requests, zipfile\n",
    "from io import StringIO\n",
    "import io"
   ]
  },
  {
   "cell_type": "code",
   "execution_count": 8,
   "id": "b8a96f5e-04d2-4904-873e-3d14d69baca1",
   "metadata": {},
   "outputs": [],
   "source": [
    "# Set url from which data will be downloaded \n",
    "url = 'https://archive.ics.uci.edu/ml/machine-learning-databases/00356/student.zip'\n",
    "\n",
    "# Obtain data from the url\n",
    "r = requests.get(url, stream=True) # Setting \"stream=True\" allows to download large files in chunks\n",
    "\n",
    "# Open zip file\n",
    "z = zipfile.ZipFile(io.BytesIO(r.content))\n",
    "z.extractall()"
   ]
  },
  {
   "cell_type": "code",
   "execution_count": 11,
   "id": "7690cb8c-eb72-4872-9eb7-7e758241cb5a",
   "metadata": {
    "scrolled": true
   },
   "outputs": [
    {
     "name": "stdout",
     "output_type": "stream",
     "text": [
      "<class 'pandas.core.frame.DataFrame'>\n",
      "RangeIndex: 395 entries, 0 to 394\n",
      "Data columns (total 33 columns):\n",
      " #   Column      Non-Null Count  Dtype \n",
      "---  ------      --------------  ----- \n",
      " 0   school      395 non-null    object\n",
      " 1   sex         395 non-null    object\n",
      " 2   age         395 non-null    int64 \n",
      " 3   address     395 non-null    object\n",
      " 4   famsize     395 non-null    object\n",
      " 5   Pstatus     395 non-null    object\n",
      " 6   Medu        395 non-null    int64 \n",
      " 7   Fedu        395 non-null    int64 \n",
      " 8   Mjob        395 non-null    object\n",
      " 9   Fjob        395 non-null    object\n",
      " 10  reason      395 non-null    object\n",
      " 11  guardian    395 non-null    object\n",
      " 12  traveltime  395 non-null    int64 \n",
      " 13  studytime   395 non-null    int64 \n",
      " 14  failures    395 non-null    int64 \n",
      " 15  schoolsup   395 non-null    object\n",
      " 16  famsup      395 non-null    object\n",
      " 17  paid        395 non-null    object\n",
      " 18  activities  395 non-null    object\n",
      " 19  nursery     395 non-null    object\n",
      " 20  higher      395 non-null    object\n",
      " 21  internet    395 non-null    object\n",
      " 22  romantic    395 non-null    object\n",
      " 23  famrel      395 non-null    int64 \n",
      " 24  freetime    395 non-null    int64 \n",
      " 25  goout       395 non-null    int64 \n",
      " 26  Dalc        395 non-null    int64 \n",
      " 27  Walc        395 non-null    int64 \n",
      " 28  health      395 non-null    int64 \n",
      " 29  absences    395 non-null    int64 \n",
      " 30  G1          395 non-null    int64 \n",
      " 31  G2          395 non-null    int64 \n",
      " 32  G3          395 non-null    int64 \n",
      "dtypes: int64(16), object(17)\n",
      "memory usage: 102.0+ KB\n"
     ]
    }
   ],
   "source": [
    "student_data = pd.read_csv('student-mat.csv', sep=';')\n",
    "student_data.head(10)\n",
    "student_data.info()"
   ]
  },
  {
   "cell_type": "markdown",
   "id": "048c8814-3c6c-4d9b-ba07-1de28b7b0c81",
   "metadata": {},
   "source": [
    "## Getting basic information about DataSet"
   ]
  },
  {
   "cell_type": "code",
   "execution_count": 12,
   "id": "5569340c-2550-4930-b4b8-ad498860eeea",
   "metadata": {},
   "outputs": [
    {
     "data": {
      "text/plain": [
       "sex\n",
       "F    16.730769\n",
       "M    16.657754\n",
       "Name: age, dtype: float64"
      ]
     },
     "execution_count": 12,
     "metadata": {},
     "output_type": "execute_result"
    }
   ],
   "source": [
    "# Getting the first values of the column 'sex'\n",
    "student_data['sex'].head()\n",
    "\n",
    "# Getting the first values of the column 'absences'\n",
    "student_data['absences'].head()\n",
    "\n",
    "# Compute the mean of 'age' grouped by 'sex'\n",
    "student_data.groupby('sex')['age'].mean()"
   ]
  },
  {
   "cell_type": "markdown",
   "id": "03142048-fb9a-4396-8a3d-b114be37a935",
   "metadata": {},
   "source": [
    "## Histogram for a variable of the DataSet"
   ]
  },
  {
   "cell_type": "code",
   "execution_count": null,
   "id": "80413070-bb31-42b8-9194-50309790f035",
   "metadata": {},
   "outputs": [
    {
     "data": {
      "image/png": "[encoded data removed]",
      "text/plain": [
       "<Figure size 640x480 with 1 Axes>"
      ]
     },
     "metadata": {},
     "output_type": "display_data"
    }
   ],
   "source": [
    "# Histogram\n",
    "plt.hist(student_data['absences'])\n",
    "\n",
    "# Label each axis\n",
    "plt.xlabel('Absences')\n",
    "plt.ylabel('Count')\n",
    "\n",
    "# Turn on grid\n",
    "plt.grid(True)\n",
    "plt.savefig(\"output_graph_5.png\")"
   ]
  },
  {
   "cell_type": "markdown",
   "id": "8d12bfa7-fd08-4fd4-96ff-577e1f376070",
   "metadata": {},
   "source": [
    "## Descriptive Statistics"
   ]
  },
  {
   "cell_type": "code",
   "execution_count": null,
   "id": "0eac8d9e-46ed-4efa-853b-4cf6c63f996c",
   "metadata": {},
   "outputs": [
    {
     "name": "stdout",
     "output_type": "stream",
     "text": [
      "Mean: 5.708860759493671\n",
      "Median: 4.0\n",
      "Mode: 0    0\n",
      "Name: absences, dtype: int64\n"
     ]
    }
   ],
   "source": [
    "# Mean\n",
    "print(f\"Mean: {student_data['absences'].mean()}\")\n",
    "\n",
    "# Median\n",
    "print(f\"Median: {student_data['absences'].median()}\")\n",
    "\n",
    "# Mode \n",
    "print(f\"Mode: {student_data['absences'].mode()}\")"
   ]
  },
  {
   "cell_type": "markdown",
   "id": "f2c67cd0-4c0a-41e8-a835-8b856910fdf6",
   "metadata": {},
   "source": [
    "## Variance and Standard Deviation"
   ]
  },
  {
   "cell_type": "code",
   "execution_count": 13,
   "id": "b3fff6c2-e65e-478f-9844-f9219181de69",
   "metadata": {},
   "outputs": [
    {
     "name": "stdout",
     "output_type": "stream",
     "text": [
      "Variance: 64.04954057700951\n",
      "Standard Deviation: 8.003095687108177\n"
     ]
    }
   ],
   "source": [
    "# Variance\n",
    "print(f\"Variance: {student_data['absences'].var()}\")\n",
    "\n",
    "# Standard Deviation\n",
    "print(f\"Standard Deviation: {student_data['absences'].std()}\")"
   ]
  },
  {
   "cell_type": "markdown",
   "id": "b7c5a13e-3f54-492a-aeff-9225d7b4dbe7",
   "metadata": {},
   "source": [
    "## Percentiles"
   ]
  },
  {
   "cell_type": "code",
   "execution_count": null,
   "id": "6ed800dc-4799-4c28-860f-f8be2441310f",
   "metadata": {},
   "outputs": [
    {
     "name": "stdout",
     "output_type": "stream",
     "text": [
      "Percentiles at: \n",
      "0.10     0.0\n",
      "0.25     0.0\n",
      "0.50     4.0\n",
      "0.75     8.0\n",
      "0.90    14.0\n",
      "Name: absences, dtype: float64\n"
     ]
    }
   ],
   "source": [
    "# 10%, 25%, 50%, 75% and 90% percentile\n",
    "print(f\"Percentiles at: \\n{student_data['absences'].quantile([0.1, 0.25, 0.50, 0.75, 0.9])}\")"
   ]
  },
  {
   "cell_type": "code",
   "execution_count": null,
   "id": "bf4c0cba-37b4-4b3d-9b00-fae545146862",
   "metadata": {},
   "outputs": [
    {
     "data": {
      "text/plain": [
       "count    395.000000\n",
       "mean       5.708861\n",
       "std        8.003096\n",
       "min        0.000000\n",
       "25%        0.000000\n",
       "50%        4.000000\n",
       "75%        8.000000\n",
       "max       75.000000\n",
       "Name: absences, dtype: float64"
      ]
     },
     "execution_count": 77,
     "metadata": {},
     "output_type": "execute_result"
    }
   ],
   "source": [
    "# Show the quartiles and more info\n",
    "student_data['absences'].describe()"
   ]
  },
  {
   "cell_type": "code",
   "execution_count": null,
   "id": "2d9d42d6-8e37-4837-b3b9-158eaa5753ea",
   "metadata": {},
   "outputs": [
    {
     "data": {
      "text/plain": [
       "8.0"
      ]
     },
     "execution_count": 85,
     "metadata": {},
     "output_type": "execute_result"
    }
   ],
   "source": [
    "# Calculate the IQR\n",
    "student_data['absences'].describe().iloc[6]-student_data['absences'].describe().iloc[4]"
   ]
  },
  {
   "cell_type": "markdown",
   "id": "4271b0d4-e3f6-43cb-a55d-e3c33034997c",
   "metadata": {},
   "source": [
    "## Box plot"
   ]
  },
  {
   "cell_type": "code",
   "execution_count": null,
   "id": "b9e0a141-f0db-4c62-80b3-25a3189b27c7",
   "metadata": {},
   "outputs": [
    {
     "data": {
      "image/png": "[encoded data removed]",
      "text/plain": [
       "<Figure size 640x480 with 1 Axes>"
      ]
     },
     "metadata": {},
     "output_type": "display_data"
    }
   ],
   "source": [
    "# Box plot for variables G1 and absences\n",
    "plt.boxplot([student_data['G1'], student_data['absences']], \\\n",
    "            labels=['G1', 'Absences'])\n",
    "plt.grid(True)\n",
    "plt.savefig(\"output_graph_6.png\")"
   ]
  },
  {
   "cell_type": "code",
   "execution_count": null,
   "id": "7523777f-3c9c-402d-ad31-c376b3a1267e",
   "metadata": {},
   "outputs": [],
   "source": []
  }
 ],
 "metadata": {
  "kernelspec": {
   "display_name": "base",
   "language": "python",
   "name": "python3"
  },
  "language_info": {
   "codemirror_mode": {
    "name": "ipython",
    "version": 3
   },
   "file_extension": ".py",
   "mimetype": "text/x-python",
   "name": "python",
   "nbconvert_exporter": "python",
   "pygments_lexer": "ipython3",
   "version": "3.12.7"
  }
 },
 "nbformat": 4,
 "nbformat_minor": 5
}
