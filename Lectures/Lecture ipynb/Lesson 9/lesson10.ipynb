{
 "cells": [
  {
   "cell_type": "markdown",
   "id": "dbf9a9f5-fe84-46da-abe9-ea50859a5ebb",
   "metadata": {},
   "source": [
    "# Linear Regression"
   ]
  },
  {
   "cell_type": "code",
   "execution_count": 1,
   "id": "691a8fa9-22e3-4454-9f66-8b557bcb1d58",
   "metadata": {},
   "outputs": [],
   "source": [
    "import numpy as np\n",
    "import pandas as pd\n",
    "import matplotlib.pyplot as plt \n",
    "import seaborn as sns\n",
    "# For interactive graphics you will need to install ipympl"
   ]
  },
  {
   "cell_type": "code",
   "execution_count": 2,
   "id": "32a9e8ab-ce7a-4bd7-b444-115967390156",
   "metadata": {},
   "outputs": [
    {
     "data": {
      "text/plain": [
       "'%.3f'"
      ]
     },
     "execution_count": 2,
     "metadata": {},
     "output_type": "execute_result"
    }
   ],
   "source": [
    "# Import library for LR\n",
    "import statsmodels.api as sm\n",
    "%precision %.3f"
   ]
  },
  {
   "cell_type": "markdown",
   "id": "acb3b6be-2316-4adc-b608-cb039600b830",
   "metadata": {},
   "source": [
    "## Simple linear regression"
   ]
  },
  {
   "cell_type": "code",
   "execution_count": 3,
   "id": "78386bfc-198f-483c-8190-a4829288e2f4",
   "metadata": {},
   "outputs": [
    {
     "name": "stdout",
     "output_type": "stream",
     "text": [
      "<class 'pandas.core.frame.DataFrame'>\n",
      "RangeIndex: 200 entries, 0 to 199\n",
      "Data columns (total 5 columns):\n",
      " #   Column      Non-Null Count  Dtype  \n",
      "---  ------      --------------  -----  \n",
      " 0   Unnamed: 0  200 non-null    int64  \n",
      " 1   TV          200 non-null    float64\n",
      " 2   radio       200 non-null    float64\n",
      " 3   newspaper   200 non-null    float64\n",
      " 4   sales       200 non-null    float64\n",
      "dtypes: float64(4), int64(1)\n",
      "memory usage: 7.9 KB\n"
     ]
    }
   ],
   "source": [
    "Advertising = pd.read_csv(\"Advertising.csv\")\n",
    "Advertising.info()"
   ]
  },
  {
   "cell_type": "code",
   "execution_count": 4,
   "id": "3433fed7-e5f2-4956-8be0-581531617e2b",
   "metadata": {},
   "outputs": [
    {
     "data": {
      "text/html": [
       "<div>\n",
       "<style scoped>\n",
       "    .dataframe tbody tr th:only-of-type {\n",
       "        vertical-align: middle;\n",
       "    }\n",
       "\n",
       "    .dataframe tbody tr th {\n",
       "        vertical-align: top;\n",
       "    }\n",
       "\n",
       "    .dataframe thead th {\n",
       "        text-align: right;\n",
       "    }\n",
       "</style>\n",
       "<table border=\"1\" class=\"dataframe\">\n",
       "  <thead>\n",
       "    <tr style=\"text-align: right;\">\n",
       "      <th></th>\n",
       "      <th>Unnamed: 0</th>\n",
       "      <th>TV</th>\n",
       "      <th>radio</th>\n",
       "      <th>newspaper</th>\n",
       "      <th>sales</th>\n",
       "    </tr>\n",
       "  </thead>\n",
       "  <tbody>\n",
       "    <tr>\n",
       "      <th>0</th>\n",
       "      <td>1</td>\n",
       "      <td>230.1</td>\n",
       "      <td>37.8</td>\n",
       "      <td>69.2</td>\n",
       "      <td>22.1</td>\n",
       "    </tr>\n",
       "    <tr>\n",
       "      <th>1</th>\n",
       "      <td>2</td>\n",
       "      <td>44.5</td>\n",
       "      <td>39.3</td>\n",
       "      <td>45.1</td>\n",
       "      <td>10.4</td>\n",
       "    </tr>\n",
       "    <tr>\n",
       "      <th>2</th>\n",
       "      <td>3</td>\n",
       "      <td>17.2</td>\n",
       "      <td>45.9</td>\n",
       "      <td>69.3</td>\n",
       "      <td>9.3</td>\n",
       "    </tr>\n",
       "    <tr>\n",
       "      <th>3</th>\n",
       "      <td>4</td>\n",
       "      <td>151.5</td>\n",
       "      <td>41.3</td>\n",
       "      <td>58.5</td>\n",
       "      <td>18.5</td>\n",
       "    </tr>\n",
       "    <tr>\n",
       "      <th>4</th>\n",
       "      <td>5</td>\n",
       "      <td>180.8</td>\n",
       "      <td>10.8</td>\n",
       "      <td>58.4</td>\n",
       "      <td>12.9</td>\n",
       "    </tr>\n",
       "  </tbody>\n",
       "</table>\n",
       "</div>"
      ],
      "text/plain": [
       "   Unnamed: 0     TV  radio  newspaper  sales\n",
       "0           1  230.1   37.8       69.2   22.1\n",
       "1           2   44.5   39.3       45.1   10.4\n",
       "2           3   17.2   45.9       69.3    9.3\n",
       "3           4  151.5   41.3       58.5   18.5\n",
       "4           5  180.8   10.8       58.4   12.9"
      ]
     },
     "execution_count": 4,
     "metadata": {},
     "output_type": "execute_result"
    }
   ],
   "source": [
    "Advertising.head()"
   ]
  },
  {
   "cell_type": "code",
   "execution_count": 33,
   "id": "370043c0-779e-44e1-be13-4e088f95d366",
   "metadata": {},
   "outputs": [
    {
     "name": "stdout",
     "output_type": "stream",
     "text": [
      "                            OLS Regression Results                            \n",
      "==============================================================================\n",
      "Dep. Variable:                  sales   R-squared:                       0.612\n",
      "Model:                            OLS   Adj. R-squared:                  0.610\n",
      "Method:                 Least Squares   F-statistic:                     312.1\n",
      "Date:                Mon, 26 May 2025   Prob (F-statistic):           1.47e-42\n",
      "Time:                        17:37:47   Log-Likelihood:                -519.05\n",
      "No. Observations:                 200   AIC:                             1042.\n",
      "Df Residuals:                     198   BIC:                             1049.\n",
      "Df Model:                           1                                         \n",
      "Covariance Type:            nonrobust                                         \n",
      "==============================================================================\n",
      "                 coef    std err          t      P>|t|      [0.025      0.975]\n",
      "------------------------------------------------------------------------------\n",
      "const          7.0326      0.458     15.360      0.000       6.130       7.935\n",
      "TV             0.0475      0.003     17.668      0.000       0.042       0.053\n",
      "==============================================================================\n",
      "Omnibus:                        0.531   Durbin-Watson:                   1.935\n",
      "Prob(Omnibus):                  0.767   Jarque-Bera (JB):                0.669\n",
      "Skew:                          -0.089   Prob(JB):                        0.716\n",
      "Kurtosis:                       2.779   Cond. No.                         338.\n",
      "==============================================================================\n",
      "\n",
      "Notes:\n",
      "[1] Standard Errors assume that the covariance matrix of the errors is correctly specified.\n",
      "p-values\n",
      " const    1.406300e-35\n",
      "TV       1.467390e-42\n",
      "dtype: float64\n"
     ]
    }
   ],
   "source": [
    "model = sm.OLS(Advertising.sales, sm.add_constant(Advertising.TV))\n",
    "results = model.fit()\n",
    "print(results.summary())\n",
    "print('p-values\\n', results.pvalues)"
   ]
  },
  {
   "cell_type": "code",
   "execution_count": 6,
   "id": "ddc27c03-6b5c-4403-a932-4e808ec11f1d",
   "metadata": {
    "scrolled": true
   },
   "outputs": [
    {
     "data": {
      "image/png": "[encoded data removed]",
      "text/plain": [
       "<Figure size 800x500 with 1 Axes>"
      ]
     },
     "metadata": {},
     "output_type": "display_data"
    },
    {
     "data": {
      "text/plain": [
       "<Figure size 640x480 with 0 Axes>"
      ]
     },
     "metadata": {},
     "output_type": "display_data"
    }
   ],
   "source": [
    "# 1) Fit the model\n",
    "X = sm.add_constant(Advertising.TV)\n",
    "model = sm.OLS(Advertising.sales, X)\n",
    "results = model.fit()\n",
    "\n",
    "# 2) Sort for smooth line\n",
    "sorted_idx    = np.argsort(Advertising.TV)\n",
    "tv_sorted     = Advertising.TV.iloc[sorted_idx]\n",
    "y_pred_sorted = results.predict(sm.add_constant(tv_sorted))\n",
    "\n",
    "# 3) Create a fresh 2D figure & axes\n",
    "fig, ax = plt.subplots(figsize=(8,5))\n",
    "\n",
    "# 4) Scatter\n",
    "ax.scatter(Advertising.TV, Advertising.sales, facecolors='red', edgecolors='red', s=25, label='Observed')\n",
    "\n",
    "# 5) OLS fit line\n",
    "ax.plot(tv_sorted, y_pred_sorted, color='blue', linewidth=2, label='OLS fit')\n",
    "\n",
    "# 6) Vertical residual sticks\n",
    "ax.vlines(x = Advertising.TV, ymin = Advertising.sales, ymax = results.predict(X), colors = 'gray', alpha  = 0.5, linewidth = 1)\n",
    "\n",
    "# 7) Final styling\n",
    "ax.set_xlabel('TV')\n",
    "ax.set_ylabel('Sales')\n",
    "ax.set_title('Scatter + OLS line + residuals')\n",
    "ax.legend()\n",
    "plt.tight_layout()\n",
    "plt.show()\n",
    "plt.savefig(\"sales_vs_tv.png\")"
   ]
  },
  {
   "cell_type": "code",
   "execution_count": 7,
   "id": "916747fd-45d4-443f-83eb-956ebd3ea075",
   "metadata": {},
   "outputs": [
    {
     "name": "stdout",
     "output_type": "stream",
     "text": [
      "t-statistics: \n",
      "const    15.360275\n",
      "TV       17.667626\n",
      "dtype: float64\n",
      "p-values: \n",
      " [1.40630048e-35 1.46738970e-42]\n"
     ]
    }
   ],
   "source": [
    "from scipy import stats\n",
    "beta_hat = results.params\n",
    "se = results.bse\n",
    "\n",
    "df = int(results.df_resid)\n",
    "t_stats = beta_hat / se\n",
    "\n",
    "#    p = 2 * P(T_{df} > |t|)\n",
    "p_values = 2 * stats.t.sf(np.abs(t_stats), df)\n",
    "print(f\"t-statistics: \\n{t_stats}\")\n",
    "print(f\"p-values: \\n {p_values}\")"
   ]
  },
  {
   "cell_type": "code",
   "execution_count": 8,
   "id": "4f750f85-39d2-4c8a-89a1-aabe0a20a76e",
   "metadata": {},
   "outputs": [
    {
     "name": "stdout",
     "output_type": "stream",
     "text": [
      "Residual standard error: 3.259\n",
      "R^2: 0.612\n",
      "F-statistic: 312.145\n"
     ]
    }
   ],
   "source": [
    "print(f\"Residual standard error: {results.scale**.5:.3f}\")\n",
    "print(f\"R^2: {results.rsquared:.3f}\")\n",
    "print(f\"F-statistic: {results.fvalue:.3f}\")"
   ]
  },
  {
   "cell_type": "code",
   "execution_count": 9,
   "id": "e9911f9e-ea40-4f22-863e-b2f4d25999cc",
   "metadata": {},
   "outputs": [
    {
     "name": "stdout",
     "output_type": "stream",
     "text": [
      "                            OLS Regression Results                            \n",
      "==============================================================================\n",
      "Dep. Variable:                  sales   R-squared:                       0.332\n",
      "Model:                            OLS   Adj. R-squared:                  0.329\n",
      "Method:                 Least Squares   F-statistic:                     98.42\n",
      "Date:                Mon, 16 Jun 2025   Prob (F-statistic):           4.35e-19\n",
      "Time:                        13:05:46   Log-Likelihood:                -573.34\n",
      "No. Observations:                 200   AIC:                             1151.\n",
      "Df Residuals:                     198   BIC:                             1157.\n",
      "Df Model:                           1                                         \n",
      "Covariance Type:            nonrobust                                         \n",
      "==============================================================================\n",
      "                 coef    std err          t      P>|t|      [0.025      0.975]\n",
      "------------------------------------------------------------------------------\n",
      "const          9.3116      0.563     16.542      0.000       8.202      10.422\n",
      "radio          0.2025      0.020      9.921      0.000       0.162       0.243\n",
      "==============================================================================\n",
      "Omnibus:                       19.358   Durbin-Watson:                   1.946\n",
      "Prob(Omnibus):                  0.000   Jarque-Bera (JB):               21.910\n",
      "Skew:                          -0.764   Prob(JB):                     1.75e-05\n",
      "Kurtosis:                       3.544   Cond. No.                         51.4\n",
      "==============================================================================\n",
      "\n",
      "Notes:\n",
      "[1] Standard Errors assume that the covariance matrix of the errors is correctly specified.\n",
      "p-values\n",
      " const    3.561071e-39\n",
      "radio    4.354966e-19\n",
      "dtype: float64\n"
     ]
    }
   ],
   "source": [
    "model = sm.OLS(Advertising.sales, sm.add_constant(Advertising.radio))\n",
    "results = model.fit()\n",
    "print(results.summary())\n",
    "print('p-values\\n', results.pvalues)"
   ]
  },
  {
   "cell_type": "code",
   "execution_count": 10,
   "id": "d6154065-3f22-4b5c-925a-a02a5b3c9537",
   "metadata": {},
   "outputs": [
    {
     "name": "stdout",
     "output_type": "stream",
     "text": [
      "                            OLS Regression Results                            \n",
      "==============================================================================\n",
      "Dep. Variable:                  sales   R-squared:                       0.052\n",
      "Model:                            OLS   Adj. R-squared:                  0.047\n",
      "Method:                 Least Squares   F-statistic:                     10.89\n",
      "Date:                Mon, 16 Jun 2025   Prob (F-statistic):            0.00115\n",
      "Time:                        13:05:49   Log-Likelihood:                -608.34\n",
      "No. Observations:                 200   AIC:                             1221.\n",
      "Df Residuals:                     198   BIC:                             1227.\n",
      "Df Model:                           1                                         \n",
      "Covariance Type:            nonrobust                                         \n",
      "==============================================================================\n",
      "                 coef    std err          t      P>|t|      [0.025      0.975]\n",
      "------------------------------------------------------------------------------\n",
      "const         12.3514      0.621     19.876      0.000      11.126      13.577\n",
      "newspaper      0.0547      0.017      3.300      0.001       0.022       0.087\n",
      "==============================================================================\n",
      "Omnibus:                        6.231   Durbin-Watson:                   1.983\n",
      "Prob(Omnibus):                  0.044   Jarque-Bera (JB):                5.483\n",
      "Skew:                           0.330   Prob(JB):                       0.0645\n",
      "Kurtosis:                       2.527   Cond. No.                         64.7\n",
      "==============================================================================\n",
      "\n",
      "Notes:\n",
      "[1] Standard Errors assume that the covariance matrix of the errors is correctly specified.\n",
      "p-values\n",
      " const        4.713507e-49\n",
      "newspaper    1.148196e-03\n",
      "dtype: float64\n"
     ]
    }
   ],
   "source": [
    "model = sm.OLS(Advertising.sales, sm.add_constant(Advertising.newspaper))\n",
    "results = model.fit()\n",
    "print(results.summary())\n",
    "print('p-values\\n', results.pvalues)"
   ]
  },
  {
   "cell_type": "markdown",
   "id": "b55e152b-f6bd-48dd-9ed3-6b10833040ff",
   "metadata": {},
   "source": [
    "## Multiple Linear Regression"
   ]
  },
  {
   "cell_type": "code",
   "execution_count": 11,
   "id": "f885e6a0-6664-43e2-9351-565833d7ebb8",
   "metadata": {},
   "outputs": [
    {
     "name": "stdout",
     "output_type": "stream",
     "text": [
      "                            OLS Regression Results                            \n",
      "==============================================================================\n",
      "Dep. Variable:                  sales   R-squared:                       0.897\n",
      "Model:                            OLS   Adj. R-squared:                  0.896\n",
      "Method:                 Least Squares   F-statistic:                     570.3\n",
      "Date:                Mon, 16 Jun 2025   Prob (F-statistic):           1.58e-96\n",
      "Time:                        13:05:52   Log-Likelihood:                -386.18\n",
      "No. Observations:                 200   AIC:                             780.4\n",
      "Df Residuals:                     196   BIC:                             793.6\n",
      "Df Model:                           3                                         \n",
      "Covariance Type:            nonrobust                                         \n",
      "==============================================================================\n",
      "                 coef    std err          t      P>|t|      [0.025      0.975]\n",
      "------------------------------------------------------------------------------\n",
      "const          2.9389      0.312      9.422      0.000       2.324       3.554\n",
      "TV             0.0458      0.001     32.809      0.000       0.043       0.049\n",
      "radio          0.1885      0.009     21.893      0.000       0.172       0.206\n",
      "newspaper     -0.0010      0.006     -0.177      0.860      -0.013       0.011\n",
      "==============================================================================\n",
      "Omnibus:                       60.414   Durbin-Watson:                   2.084\n",
      "Prob(Omnibus):                  0.000   Jarque-Bera (JB):              151.241\n",
      "Skew:                          -1.327   Prob(JB):                     1.44e-33\n",
      "Kurtosis:                       6.332   Cond. No.                         454.\n",
      "==============================================================================\n",
      "\n",
      "Notes:\n",
      "[1] Standard Errors assume that the covariance matrix of the errors is correctly specified.\n",
      "const        1.267295e-17\n",
      "TV           1.509960e-81\n",
      "radio        1.505339e-54\n",
      "newspaper    8.599151e-01\n",
      "dtype: float64\n"
     ]
    }
   ],
   "source": [
    "# 1) Select your predictors\n",
    "X = Advertising[['TV', 'radio', 'newspaper']]\n",
    "\n",
    "# 2) Add an intercept (constant) column\n",
    "X = sm.add_constant(X)\n",
    "\n",
    "# 3) Define and fit the model\n",
    "model = sm.OLS(Advertising.sales, X)\n",
    "results = model.fit()\n",
    "\n",
    "# 4) Inspect the output\n",
    "print(results.summary())\n",
    "print(results.pvalues)"
   ]
  },
  {
   "cell_type": "code",
   "execution_count": 12,
   "id": "3fa9e96c-ccd0-4ea7-b98f-4019cfcaaaae",
   "metadata": {},
   "outputs": [],
   "source": [
    "from mpl_toolkits.mplot3d import Axes3D\n",
    "# For displaying your plots on a separate interactive window\n",
    "%matplotlib qt\n",
    "\n",
    "# Load data\n",
    "Advertising = pd.read_csv('Advertising.csv')\n",
    "\n",
    "# Fit OLS: sales ~ TV + Radio\n",
    "X = sm.add_constant(Advertising[['TV','radio']])\n",
    "y = Advertising.sales\n",
    "model = sm.OLS(y, X).fit()\n",
    "\n",
    "# Make grid for plane\n",
    "tv_vals    = np.linspace(Advertising.TV.min(), Advertising.TV.max(), 20)\n",
    "radio_vals = np.linspace(Advertising.radio.min(), Advertising.radio.max(), 20)\n",
    "grid_tv, grid_radio = np.meshgrid(tv_vals, radio_vals)\n",
    "grid_X = np.column_stack([np.ones(grid_tv.size), grid_tv.ravel(), grid_radio.ravel()])\n",
    "grid_pred = model.predict(grid_X).reshape(grid_tv.shape)\n",
    "\n",
    "# Plot\n",
    "fig = plt.figure(figsize=(8,6))\n",
    "ax  = fig.add_subplot(111, projection='3d')\n",
    "\n",
    "# a) scatter\n",
    "ax.scatter(Advertising.TV, Advertising.radio, Advertising.sales,\n",
    "           color='red', alpha=0.6, label='Observed')\n",
    "\n",
    "# b) plane\n",
    "ax.plot_surface(grid_tv, grid_radio, grid_pred,\n",
    "                cmap='viridis', alpha=0.5, edgecolor='none')\n",
    "\n",
    "# c) residual sticks — use ax.plot for each\n",
    "y_pred = model.predict(X)\n",
    "for x_i, r_i, yhat_i, y_i in zip(Advertising.TV, Advertising.radio,\n",
    "                                 y_pred, Advertising.sales):\n",
    "    ax.plot([x_i, x_i], [r_i, r_i],  [yhat_i, y_i], color='gray', alpha=0.5,linewidth=1)\n",
    "\n",
    "# d) view & labels\n",
    "ax.set_xlabel('TV Budget')\n",
    "ax.set_ylabel('Radio Budget')\n",
    "ax.set_zlabel('Sales')\n",
    "ax.set_title('3D OLS Fit: Sales ~ TV + Radio')\n",
    "\n",
    "# optional: set a nice initial view\n",
    "\n",
    "plt.tight_layout()\n",
    "plt.show()"
   ]
  },
  {
   "cell_type": "code",
   "execution_count": 18,
   "id": "0e8a4842-e0e1-4995-9059-08fc9c8dff2a",
   "metadata": {},
   "outputs": [],
   "source": [
    "# To keep plots on the actual notebook\n",
    "%matplotlib qt"
   ]
  },
  {
   "cell_type": "code",
   "execution_count": 14,
   "id": "1c8d183c-9c55-47fb-94b0-31571af8f8ed",
   "metadata": {},
   "outputs": [
    {
     "name": "stdout",
     "output_type": "stream",
     "text": [
      "Residual standard error: 1.686\n",
      "R^2: 0.897\n",
      "F-statistic: 570.271\n"
     ]
    }
   ],
   "source": [
    "print(f\"Residual standard error: {results.scale**.5:.3f}\")\n",
    "print(f\"R^2: {results.rsquared:.3f}\")\n",
    "print(f\"F-statistic: {results.fvalue:.3f}\")"
   ]
  },
  {
   "cell_type": "code",
   "execution_count": 19,
   "id": "7b1c5a70-9a84-4b47-93c9-c977d545d223",
   "metadata": {},
   "outputs": [
    {
     "name": "stdout",
     "output_type": "stream",
     "text": [
      "Correlations\n",
      "                  TV     radio  newspaper     sales\n",
      "TV         1.000000  0.054809   0.056648  0.782224\n",
      "radio      0.054809  1.000000   0.354104  0.576223\n",
      "newspaper  0.056648  0.354104   1.000000  0.228299\n",
      "sales      0.782224  0.576223   0.228299  1.000000\n"
     ]
    }
   ],
   "source": [
    "cor = Advertising[['TV','radio','newspaper','sales']].corr()\n",
    "print('Correlations\\n',cor)\n",
    "sns.heatmap(cor, annot=True)\n",
    "plt.show()"
   ]
  },
  {
   "cell_type": "code",
   "execution_count": null,
   "id": "e61a262c-a13f-407e-8d9a-29fc50405d9f",
   "metadata": {},
   "outputs": [],
   "source": []
  }
 ],
 "metadata": {
  "kernelspec": {
   "display_name": "Python [conda env:base] *",
   "language": "python",
   "name": "conda-base-py"
  },
  "language_info": {
   "codemirror_mode": {
    "name": "ipython",
    "version": 3
   },
   "file_extension": ".py",
   "mimetype": "text/x-python",
   "name": "python",
   "nbconvert_exporter": "python",
   "pygments_lexer": "ipython3",
   "version": "3.11.11"
  }
 },
 "nbformat": 4,
 "nbformat_minor": 5
}
