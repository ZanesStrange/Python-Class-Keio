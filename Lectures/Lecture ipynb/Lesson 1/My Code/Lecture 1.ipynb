{
 "cells": [
  {
   "cell_type": "code",
   "execution_count": 11,
   "id": "0b2f71e8-fcf1-4609-8a74-4c95935c0299",
   "metadata": {},
   "outputs": [
    {
     "name": "stdout",
     "output_type": "stream",
     "text": [
      "<class 'float'>\n"
     ]
    }
   ],
   "source": [
    "name = \"Tarou\"\n",
    "age = 25\n",
    "height = 1.75\n",
    "is_student = True"
   ]
  },
  {
   "cell_type": "code",
   "execution_count": 13,
   "id": "499404f9-f264-473a-b727-3ed4b2e56dfe",
   "metadata": {},
   "outputs": [
    {
     "name": "stdout",
     "output_type": "stream",
     "text": [
      "3\n",
      "6\n"
     ]
    }
   ],
   "source": [
    "x = 57\n",
    "y = 9\n",
    "print(x%y)\n",
    "print(x//y)"
   ]
  },
  {
   "cell_type": "code",
   "execution_count": 14,
   "id": "f9e3353a-6648-4f5c-bfd0-87af041ea6d5",
   "metadata": {},
   "outputs": [
    {
     "name": "stdout",
     "output_type": "stream",
     "text": [
      "243\n"
     ]
    }
   ],
   "source": [
    "print(3**5)"
   ]
  },
  {
   "cell_type": "code",
   "execution_count": 17,
   "id": "3759f5ed-015d-47a1-b54e-eb0f85ec96f4",
   "metadata": {},
   "outputs": [
    {
     "name": "stdout",
     "output_type": "stream",
     "text": [
      "3\n"
     ]
    }
   ],
   "source": [
    "print(int(243**(1/5)))"
   ]
  },
  {
   "cell_type": "code",
   "execution_count": 21,
   "id": "ebd47ba0-ee1b-49d0-bd82-9e75b2875fa7",
   "metadata": {},
   "outputs": [
    {
     "name": "stdout",
     "output_type": "stream",
     "text": [
      "Furture value: $1276.28\n"
     ]
    }
   ],
   "source": [
    "principal = 1000\n",
    "rate = 0.05\n",
    "years = 5\n",
    "\n",
    "future_value = principal * (1 + rate) ** years\n",
    "print(f\"Furture value: ${future_value:.2f}\")"
   ]
  },
  {
   "cell_type": "code",
   "execution_count": 20,
   "id": "416943eb-75af-465d-89c3-24b3edc6c05d",
   "metadata": {},
   "outputs": [
    {
     "name": "stdout",
     "output_type": "stream",
     "text": [
      "Hello, Taka. You are 30 years old.\n"
     ]
    }
   ],
   "source": [
    "name = \"Taka\"\n",
    "age = 30\n",
    "print(f\"Hello, {name}. You are {age} years old.\")"
   ]
  },
  {
   "cell_type": "code",
   "execution_count": 22,
   "id": "6f9d8b22-cc06-465d-a62d-772355c7d72b",
   "metadata": {},
   "outputs": [
    {
     "name": "stdout",
     "output_type": "stream",
     "text": [
      "Population: 8,000,000\n"
     ]
    }
   ],
   "source": [
    "population = 8_000_000\n",
    "print(f\"Population: {population:,}\")"
   ]
  },
  {
   "cell_type": "code",
   "execution_count": 23,
   "id": "c528ca56-8b6d-4e9c-be46-9ecba625d9dc",
   "metadata": {},
   "outputs": [
    {
     "name": "stdout",
     "output_type": "stream",
     "text": [
      "A\n"
     ]
    }
   ],
   "source": [
    "score = 84\n",
    "\n",
    "if score >= 90:\n",
    "    print(\"S\")\n",
    "elif score >= 80:\n",
    "    print(\"A\")\n",
    "else:\n",
    "    print(\"B\")"
   ]
  },
  {
   "cell_type": "code",
   "execution_count": 26,
   "id": "b5f78dfe-719f-40ac-9f86-a9dcad7ceb31",
   "metadata": {},
   "outputs": [
    {
     "name": "stdin",
     "output_type": "stream",
     "text": [
      "Enter your age 20\n"
     ]
    },
    {
     "name": "stdout",
     "output_type": "stream",
     "text": [
      "You are an adult. You can buy adult stuff.\n"
     ]
    }
   ],
   "source": [
    "user_age = int(input(\"Enter your age\"))\n",
    "\n",
    "if user_age >= 20:\n",
    "    print(\"You are an adult.\")\n",
    "else:\n",
    "    print(\"You are a minor.\")"
   ]
  },
  {
   "cell_type": "markdown",
   "id": "78f54a2e-3306-40ac-8cf0-91e715efe503",
   "metadata": {},
   "source": []
  },
  {
   "cell_type": "code",
   "execution_count": null,
   "id": "775d8d48-38a5-4494-a311-ec01cd3fb589",
   "metadata": {},
   "outputs": [],
   "source": []
  },
  {
   "cell_type": "code",
   "execution_count": null,
   "id": "0f7e0e8d-3711-41eb-9ed7-30cc6336a4e5",
   "metadata": {},
   "outputs": [],
   "source": []
  }
 ],
 "metadata": {
  "kernelspec": {
   "display_name": "Python 3 (ipykernel)",
   "language": "python",
   "name": "python3"
  },
  "language_info": {
   "codemirror_mode": {
    "name": "ipython",
    "version": 3
   },
   "file_extension": ".py",
   "mimetype": "text/x-python",
   "name": "python",
   "nbconvert_exporter": "python",
   "pygments_lexer": "ipython3",
   "version": "3.13.0"
  }
 },
 "nbformat": 4,
 "nbformat_minor": 5
}
