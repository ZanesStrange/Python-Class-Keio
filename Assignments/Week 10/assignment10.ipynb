{
 "cells": [
  {
   "cell_type": "markdown",
   "id": "ddd1e60f-d0e7-4c34-8ce7-b2e70b76ac50",
   "metadata": {},
   "source": [
    "<h1 style=\"text-align: center;\">Introduction to Data Science - Assignment 10</h1>\n",
    "<h3 style=\"text-align: center;\">Name: Hugo Hayashi</h3>\n",
    "<h3 style=\"text-align: center;\">Student ID: 22446441</h3>\n",
    "\n"
   ]
  },
  {
   "cell_type": "markdown",
   "id": "1bee4156-5a40-4551-81e0-1ca0bd6fb91c",
   "metadata": {},
   "source": [
    "## Question 1\n"
   ]
  },
  {
   "cell_type": "code",
   "execution_count": null,
   "id": "2cd6e68f-39ae-4b51-a2cd-3c2615edc375",
   "metadata": {},
   "outputs": [],
   "source": [
    "# Your fancy code here\n",
    "import numpy as np\n",
    "import pandas as pd\n",
    "from scipy.stats import norm\n",
    "from statsmodels.api import sm\n",
    "import requests, zipfile\n",
    "import io\n",
    "\n",
    "url = 'https://archive.ics.uci.edu/ml/machine-learning-databases/00356/student.zip'\n",
    "\n",
    "r = requests.get(url)\n",
    "\n",
    "z = zipfile.ZipFile(io.BytesIO(r.content))\n",
    "z.extractall()\n",
    "\n",
    "df = pd.read_csv('student-mat.csv', sep=';')\n",
    "df_dropped = df.dropna()\n",
    "for preds in predictors:\n",
    "    model = sm.OLS(df_dropped.G1, )\n"
   ]
  },
  {
   "cell_type": "markdown",
   "id": "9a92e31e-d8f1-46bf-b76e-c17eb701cb49",
   "metadata": {},
   "source": [
    "## Question 2"
   ]
  },
  {
   "cell_type": "code",
   "execution_count": 29,
   "id": "b8a96f5e-04d2-4904-873e-3d14d69baca1",
   "metadata": {},
   "outputs": [],
   "source": [
    "#More code and comments..."
   ]
  },
  {
   "cell_type": "markdown",
   "id": "a47f4500-c241-4aff-a545-55ec0f517711",
   "metadata": {},
   "source": [
    "## Question 3"
   ]
  },
  {
   "cell_type": "code",
   "execution_count": null,
   "id": "a848325c-4762-4e88-ab5d-79113c55e855",
   "metadata": {},
   "outputs": [],
   "source": []
  },
  {
   "cell_type": "markdown",
   "id": "2d6a479a-2f61-4412-84c9-c05653451cfa",
   "metadata": {},
   "source": [
    "## Question 4"
   ]
  },
  {
   "cell_type": "code",
   "execution_count": null,
   "id": "5a104d3f-907c-4e18-bafd-38e1ab2fd30e",
   "metadata": {},
   "outputs": [],
   "source": []
  }
 ],
 "metadata": {
  "kernelspec": {
   "display_name": "Python [conda env:base] *",
   "language": "python",
   "name": "conda-base-py"
  },
  "language_info": {
   "codemirror_mode": {
    "name": "ipython",
    "version": 3
   },
   "file_extension": ".py",
   "mimetype": "text/x-python",
   "name": "python",
   "nbconvert_exporter": "python",
   "pygments_lexer": "ipython3",
   "version": "3.11.7"
  }
 },
 "nbformat": 4,
 "nbformat_minor": 5
}
