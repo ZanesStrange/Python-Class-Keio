{
 "cells": [
  {
   "cell_type": "markdown",
   "id": "ddd1e60f-d0e7-4c34-8ce7-b2e70b76ac50",
   "metadata": {},
   "source": [
    "<h1 style=\"text-align: center;\">Introduction to Data Science - Assignment 2</h1>\n",
    "<h3 style=\"text-align: center;\">Name: Hugo Hayashi</h3>\n",
    "<h3 style=\"text-align: center;\">Student ID: 22446441</h3>\n",
    "\n"
   ]
  },
  {
   "cell_type": "markdown",
   "id": "1bee4156-5a40-4551-81e0-1ca0bd6fb91c",
   "metadata": {},
   "source": [
    "## Question 1\n"
   ]
  },
  {
   "cell_type": "code",
   "execution_count": 2,
   "id": "2cd6e68f-39ae-4b51-a2cd-3c2615edc375",
   "metadata": {},
   "outputs": [
    {
     "name": "stdout",
     "output_type": "stream",
     "text": [
      "Difference between the even sum: -10\n"
     ]
    }
   ],
   "source": [
    "# Your fancy code here\n",
    "integers = [2, 3, 6, 8, 11, 15, 17, 20]\n",
    "even_sum = 0\n",
    "odd_sum = 0\n",
    "\n",
    "for integer in integers:\n",
    "    if integer % 2 == 0:\n",
    "        even_sum += integer\n",
    "    elif integer % 2 != 0:\n",
    "        odd_sum += integer\n",
    "print(f\"Difference between the even sum: {even_sum - odd_sum}\")"
   ]
  },
  {
   "cell_type": "markdown",
   "id": "9a92e31e-d8f1-46bf-b76e-c17eb701cb49",
   "metadata": {},
   "source": [
    "## Question 2"
   ]
  },
  {
   "cell_type": "code",
   "execution_count": 3,
   "id": "b8a96f5e-04d2-4904-873e-3d14d69baca1",
   "metadata": {},
   "outputs": [
    {
     "name": "stdout",
     "output_type": "stream",
     "text": [
      "{'bananas': 45, 'oranges': 20, 'pears': 25}\n"
     ]
    }
   ],
   "source": [
    "#More code and comments...\n",
    "inventory = {\"apples\": 30, \"bananas\": 45, \"oranges\": 20}\n",
    "\n",
    "inventory[\"apples\"] += 10\n",
    "\n",
    "inventory.pop(\"apples\")\n",
    "\n",
    "inventory[\"pears\"] = 25\n",
    "\n",
    "print(inventory)"
   ]
  },
  {
   "cell_type": "markdown",
   "id": "a47f4500-c241-4aff-a545-55ec0f517711",
   "metadata": {},
   "source": [
    "## Question 3"
   ]
  },
  {
   "cell_type": "code",
   "execution_count": 6,
   "id": "a848325c-4762-4e88-ab5d-79113c55e855",
   "metadata": {},
   "outputs": [
    {
     "name": "stdout",
     "output_type": "stream",
     "text": [
      "The factorial for 8 is 40320.\n"
     ]
    }
   ],
   "source": [
    "N = 8\n",
    "num = 0\n",
    "factorial = 1\n",
    "while num < N:\n",
    "    num += 1\n",
    "    factorial = factorial * num\n",
    "print(f\"The factorial for {N} is {factorial}.\")"
   ]
  },
  {
   "cell_type": "markdown",
   "id": "2d6a479a-2f61-4412-84c9-c05653451cfa",
   "metadata": {},
   "source": [
    "## Question 4"
   ]
  },
  {
   "cell_type": "markdown",
   "id": "e901b151-5655-4505-a1e7-d88ba285f013",
   "metadata": {},
   "source": [
    "I think the part that I found the most challenging throughout today's lecture was understanding the usage of while loops. I especially found it difficult to wrap my head around what conditions I needed to make to prevent the while loop from looping forever. However, from hearing the explanation in class and doing the assignments, I was able to gain a thorough understanding of the function."
   ]
  }
 ],
 "metadata": {
  "kernelspec": {
   "display_name": "Python 3 (ipykernel)",
   "language": "python",
   "name": "python3"
  },
  "language_info": {
   "codemirror_mode": {
    "name": "ipython",
    "version": 3
   },
   "file_extension": ".py",
   "mimetype": "text/x-python",
   "name": "python",
   "nbconvert_exporter": "python",
   "pygments_lexer": "ipython3",
   "version": "3.13.0"
  }
 },
 "nbformat": 4,
 "nbformat_minor": 5
}
