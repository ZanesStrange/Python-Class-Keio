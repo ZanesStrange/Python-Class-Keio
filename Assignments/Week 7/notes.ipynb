{
 "cells": [
  {
   "cell_type": "code",
   "execution_count": null,
   "id": "269da363",
   "metadata": {},
   "outputs": [],
   "source": [
    "import numpy as np\n",
    "import matplotlib.pyplot as plt\n",
    "from scipy.stats import norm, t\n",
    "\n",
    "mu, sigma = 0, 1\n",
    "df = 5 # degrees of freedom\n",
    "xs = np.linspace(mu - 4*sigma, mu + 4*sigma, 400)\n",
    "\n",
    "plt.figure(figsize=(6,4))\n",
    "plt.plot(xs, norm.pdf(xs, mu, sigma), label=r\"pdf $N(0,1)$\")\n",
    "plt.plot(xs, t.pdf(xs, df), \"k-\", lw=2, label=f\"t pdf (df={df})\")\n",
    "plt.xlabel(\"x\")\n",
    "plt.title(\"Normal Distribution vs t-Distribution with df=5\")\n",
    "plt.legend()\n",
    "plt.grid(alpha=0.3)\n",
    "plt.show()"
   ]
  },
  {
   "cell_type": "code",
   "execution_count": null,
   "id": "9755bcdf",
   "metadata": {},
   "outputs": [],
   "source": [
    "# Parameters\n",
    "mu_x, mu_y = 0, 0\n",
    "sigma_x, sigma_y = 1, 1\n",
    "cc = 0.7 / (1 * 1)\n",
    "y = 1 # Condition: Y > 1\n",
    "\n",
    "# Standardize Y threshold to get z-score\n",
    "z = (y - mu_y) / sigma_y\n",
    "\n",
    "# Compute the pdf and cdf of the standard normal variable\n",
    "pdf_z = norm.pdf(z)\n",
    "cdf_z = norm.cdf(z)\n",
    "\n",
    "# Conditional expectation formula\n",
    "theoretical_E = mu_x + cc * sigma_x * (pdf_z / (1 - cdf_z))\n",
    "\n",
    "print(\"Theoretical E[X | Y > 1]:\", theoretical_E)"
   ]
  }
 ],
 "metadata": {
  "language_info": {
   "name": "python"
  }
 },
 "nbformat": 4,
 "nbformat_minor": 5
}
