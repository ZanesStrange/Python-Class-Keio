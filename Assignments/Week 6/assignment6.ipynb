{
 "cells": [
  {
   "cell_type": "markdown",
   "id": "ddd1e60f-d0e7-4c34-8ce7-b2e70b76ac50",
   "metadata": {},
   "source": [
    "<h1 style=\"text-align: center;\">Introduction to Data Science - Assignment 6</h1>\n",
    "<h3 style=\"text-align: center;\">Name: Hugo Hayashi</h3>\n",
    "<h3 style=\"text-align: center;\">Student ID: 22446441</h3>\n",
    "\n"
   ]
  },
  {
   "cell_type": "markdown",
   "id": "1bee4156-5a40-4551-81e0-1ca0bd6fb91c",
   "metadata": {},
   "source": [
    "## Question 1\n"
   ]
  },
  {
   "cell_type": "markdown",
   "id": "80a4a8d2",
   "metadata": {},
   "source": [
    "- Probability of A winning: 100 / 1000 = 0.1\n",
    "- Probability of B winning: 99 / 100 * 0.9 + 100 / 999 * (1-0.1) = 0.1\n",
    "- Probability of both winning: (Probability of A winning) * (Probability of B winning given A wins) = 0.1 * 99 / 999 = 0.0099"
   ]
  },
  {
   "cell_type": "code",
   "execution_count": null,
   "id": "2cd6e68f-39ae-4b51-a2cd-3c2615edc375",
   "metadata": {},
   "outputs": [],
   "source": [
    "# Your fancy code here\n",
    "import numpy as np\n",
    "import random\n",
    "import math\n",
    "\n",
    "class Lottery:\n",
    "    \"\"\"Lottery box with 1000 tickets and 100 winners\"\"\"\n",
    "\n",
    "    def __init__(self):\n",
    "        self.tickets = [0] * [900] + [1] * 100\n",
    "    \n",
    "    def draw(self, n):\n",
    "        \"\"\"Return one random ticket result and discard from the box\"\"\"\n",
    "        random.shuffle(self.tickets)\n",
    "        for _ in range(n):\n",
    "            if self.tickets.pop() == 1:\n",
    "                return True\n",
    "            else:\n",
    "                return False\n",
    "    \n",
    "    def experiment(self, n):\n",
    "        \"\"\"Monte-Carlo simulation of drawing from the lottery box\"\"\"\n",
    "        aWin = 0\n",
    "        bWin = 0\n",
    "        bothWin = 0\n",
    "\n",
    "        for _ in range(n):\n",
    "            aWinloss = box.draw(1)\n",
    "            if aWinloss == True:\n",
    "                aWin += 1\n",
    "\n",
    "            bWinloss = box.draw(1)\n",
    "            if bWinloss == True:\n",
    "                bWin += 1\n",
    "\n",
    "            if aWinloss and bWinloss == True:\n",
    "                bothWin += 1\n",
    "            \n",
    "            self.tickets = [0] * 900 + [1] * 100\n",
    "\n",
    "        print(f\"Wins of A: {aWin}\")\n",
    "        print(f\"Probability of A winning: {aWin / n:.4f}\")\n",
    "        print(f\"Wins of B: {bWin}\")\n",
    "        print(f\"Probability of B winning: {bWin / n:.4f}\")\n",
    "        print(f\"Wins of both A and B: {bothWin}\")\n",
    "        print(f\"Probability of A and B winning: {bothWin / n:.4f}\")\n",
    "\n",
    "box = Lottery()\n",
    "box.experiment(100000)\n"
   ]
  },
  {
   "cell_type": "markdown",
   "id": "9a92e31e-d8f1-46bf-b76e-c17eb701cb49",
   "metadata": {},
   "source": [
    "## Question 2"
   ]
  },
  {
   "cell_type": "code",
   "execution_count": null,
   "id": "b8a96f5e-04d2-4904-873e-3d14d69baca1",
   "metadata": {},
   "outputs": [],
   "source": [
    "#More code and comments...\n",
    "import matplotlib.pyplot as plt\n",
    "\n",
    "class Dice:\n",
    "    \"\"\"Models a fair 6-sided dice\"\"\"\n",
    "\n",
    "    def __init__(self):\n",
    "        self.faces = (1, 2, 3, 4, 5, 6)\n",
    "    \n",
    "    def roll(self):\n",
    "        \"\"\"Return one random face value\"\"\"\n",
    "        return random.choice(self.faces)\n",
    "    \n",
    "    def frequency(self):\n",
    "        \"\"\"Prints the frequency of each face value after rolling the desired number of times\"\"\"\n",
    "        results = []\n",
    "        freq = {}\n",
    "\n",
    "        n = int(input(\"Enter how many times you want to roll the dice: \"))\n",
    "\n",
    "        for _ in range(n):\n",
    "            results.append(self.roll())\n",
    "\n",
    "        for i in results:\n",
    "            if i in freq:\n",
    "                freq[i] += 1\n",
    "            else:\n",
    "                freq[i] = 1\n",
    "        return freq\n",
    "\n",
    "    def histogram (self):\n",
    "        \"\"\"Illustrates a histogram of die face and frequency based on number of rolls inputted\"\"\"\n",
    "        freq = self.frequency()\n",
    "        faces = list(freq.keys())\n",
    "        counts = list(freq.values())\n",
    "\n",
    "        plt.bar(faces, counts)\n",
    "        plt.xlabel('Face of Die')\n",
    "        plt.ylabel('Frequency')\n",
    "        plt.title('Result of Rolls')\n",
    "        plt.show()\n",
    "\n",
    "d = Dice()\n",
    "d.roll()\n",
    "print(\"\\nFace: Frequency\\n\", d.frequency(), \"\\n\")\n",
    "d.histogram()\n"
   ]
  },
  {
   "cell_type": "markdown",
   "id": "a47f4500-c241-4aff-a545-55ec0f517711",
   "metadata": {},
   "source": [
    "## Question 3"
   ]
  },
  {
   "cell_type": "code",
   "execution_count": null,
   "id": "a848325c-4762-4e88-ab5d-79113c55e855",
   "metadata": {},
   "outputs": [],
   "source": [
    "def simulate(tries = 1000000):\n",
    "    \"\"\"Monte-Carlo simulation of testing for a 0.01% disease with 99.99% true positive and 5% false positive rate\"\"\"\n",
    "\n",
    "    one_pos_count = 0\n",
    "    one_pos_and_disease = 0\n",
    "    two_pos_count = 0\n",
    "    two_pos_and_disease = 0\n",
    "\n",
    "    for _ in range(tries):\n",
    "        d = random.random() < 0.0001\n",
    "\n",
    "        t1 = random.random() < (0.9999 if d else 0.05)\n",
    "        t2 = random.random() < (0.9999 if d else 0.05)\n",
    "\n",
    "        if t1:\n",
    "            one_pos_count += 1\n",
    "            if d:\n",
    "                one_pos_and_disease += 1\n",
    "    \n",
    "    return one_pos_and_disease / one_pos_count, two_pos_and_disease / two_pos_count\n",
    "\n",
    "print(simulate())"
   ]
  },
  {
   "cell_type": "markdown",
   "id": "2d6a479a-2f61-4412-84c9-c05653451cfa",
   "metadata": {},
   "source": [
    "## Question 4"
   ]
  },
  {
   "cell_type": "code",
   "execution_count": null,
   "id": "5a104d3f-907c-4e18-bafd-38e1ab2fd30e",
   "metadata": {},
   "outputs": [],
   "source": []
  }
 ],
 "metadata": {
  "kernelspec": {
   "display_name": "Python [conda env:base] *",
   "language": "python",
   "name": "conda-base-py"
  },
  "language_info": {
   "codemirror_mode": {
    "name": "ipython",
    "version": 3
   },
   "file_extension": ".py",
   "mimetype": "text/x-python",
   "name": "python",
   "nbconvert_exporter": "python",
   "pygments_lexer": "ipython3",
   "version": "3.11.7"
  }
 },
 "nbformat": 4,
 "nbformat_minor": 5
}
