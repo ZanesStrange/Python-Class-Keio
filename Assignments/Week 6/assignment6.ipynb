{
 "cells": [
  {
   "cell_type": "markdown",
   "id": "ddd1e60f-d0e7-4c34-8ce7-b2e70b76ac50",
   "metadata": {},
   "source": [
    "<h1 style=\"text-align: center;\">Introduction to Data Science - Assignment 6</h1>\n",
    "<h3 style=\"text-align: center;\">Name: Hugo Hayashi</h3>\n",
    "<h3 style=\"text-align: center;\">Student ID: 22446441</h3>\n",
    "\n"
   ]
  },
  {
   "cell_type": "markdown",
   "id": "1bee4156-5a40-4551-81e0-1ca0bd6fb91c",
   "metadata": {},
   "source": [
    "## Question 1\n"
   ]
  },
  {
   "cell_type": "markdown",
   "id": "80a4a8d2",
   "metadata": {},
   "source": [
    "- Probability of A winning: 100 / 1000 = 0.1\n",
    "- Probability of B winning: 99 / 100 * 0.9 + 100 / 999 * (1-0.1) = 0.1\n",
    "- Probability of both winning: (Probability of A winning) * (Probability of B winning given A wins) = 0.1 * 99 / 999 = 0.0099"
   ]
  },
  {
   "cell_type": "code",
   "execution_count": 9,
   "id": "2cd6e68f-39ae-4b51-a2cd-3c2615edc375",
   "metadata": {},
   "outputs": [
    {
     "name": "stdout",
     "output_type": "stream",
     "text": [
      "Wins of A: 10008\n",
      "Probability of A winning: 0.1001\n",
      "Wins of B: 9854\n",
      "Probability of B winning: 0.0985\n",
      "Wins of both A and B: 934\n",
      "Probability of A and B winning: 0.0093\n"
     ]
    }
   ],
   "source": [
    "# Your fancy code here\n",
    "import numpy as np\n",
    "import random\n",
    "import math\n",
    "\n",
    "class Lottery:\n",
    "    \"\"\"Lottery box with 1000 tickets and 100 winners\"\"\"\n",
    "\n",
    "    def __init__(self):\n",
    "        self.tickets = [0] * 900 + [1] * 100\n",
    "    \n",
    "    def draw(self, n):\n",
    "        \"\"\"Return one random ticket result and discard from the box\"\"\"\n",
    "        random.shuffle(self.tickets)\n",
    "        for _ in range(n):\n",
    "            if self.tickets.pop() == 1:\n",
    "                return True\n",
    "            else:\n",
    "                return False\n",
    "    \n",
    "    def experiment(self, n):\n",
    "        \"\"\"Monte-Carlo simulation of drawing from the lottery box\"\"\"\n",
    "        aWin = 0\n",
    "        bWin = 0\n",
    "        bothWin = 0\n",
    "\n",
    "        for _ in range(n):\n",
    "            aWinloss = box.draw(1)\n",
    "            if aWinloss == True:\n",
    "                aWin += 1\n",
    "\n",
    "            bWinloss = box.draw(1)\n",
    "            if bWinloss == True:\n",
    "                bWin += 1\n",
    "\n",
    "            if aWinloss and bWinloss == True:\n",
    "                bothWin += 1\n",
    "            \n",
    "            self.tickets = [0] * 900 + [1] * 100\n",
    "\n",
    "        print(f\"Wins of A: {aWin}\")\n",
    "        print(f\"Probability of A winning: {aWin / n:.4f}\")\n",
    "        print(f\"Wins of B: {bWin}\")\n",
    "        print(f\"Probability of B winning: {bWin / n:.4f}\")\n",
    "        print(f\"Wins of both A and B: {bothWin}\")\n",
    "        print(f\"Probability of A and B winning: {bothWin / n:.4f}\")\n",
    "\n",
    "box = Lottery()\n",
    "box.experiment(100000)\n"
   ]
  },
  {
   "cell_type": "markdown",
   "id": "20f730a3",
   "metadata": {},
   "source": [
    "If B-san drew before A-san, the probabilities will still be the same since the probability is not dependent on who is drawing, and only the count of tickets and winners matters."
   ]
  },
  {
   "cell_type": "markdown",
   "id": "9a92e31e-d8f1-46bf-b76e-c17eb701cb49",
   "metadata": {},
   "source": [
    "## Question 2"
   ]
  },
  {
   "cell_type": "code",
   "execution_count": 10,
   "id": "36449911",
   "metadata": {},
   "outputs": [
    {
     "name": "stdout",
     "output_type": "stream",
     "text": [
      "\n",
      "Face: Frequency\n",
      " {6: 24, 3: 21, 4: 13, 2: 13, 1: 17, 5: 12} \n",
      "\n"
     ]
    },
    {
     "data": {
      "image/png": "[encoded data removed]",
      "text/plain": [
       "<Figure size 640x480 with 1 Axes>"
      ]
     },
     "metadata": {},
     "output_type": "display_data"
    }
   ],
   "source": [
    "import matplotlib.pyplot as plt\n",
    "import random\n",
    "\n",
    "class Dice:\n",
    "    \"\"\"Models a fair six-sided dice\"\"\"\n",
    "    def __init__(self):\n",
    "        self.faces = (1, 2, 3, 4, 5, 6)\n",
    "    \n",
    "    def roll(self):\n",
    "        \"\"\"Return one random face value\"\"\"\n",
    "        return random.choice(self.faces)\n",
    "    \n",
    "    def frequency(self):\n",
    "        \"\"\"Prints the frequency of each face value after rolling n times\"\"\"\n",
    "        results = []\n",
    "        freq = {}\n",
    "\n",
    "        n = int(input(\"Enter how mnay times you want to roll the dice: \"))\n",
    "\n",
    "        for _ in range(n):\n",
    "            results.append(self.roll())\n",
    "        \n",
    "        for r in results:\n",
    "            if r in freq:\n",
    "                freq[r] += 1\n",
    "            else:\n",
    "                freq[r] = 1\n",
    "            \n",
    "        return freq\n",
    "    \n",
    "    def histogram(self):\n",
    "        \"\"\"Illustrates a histogram of frequencies after rolling n times\"\"\"\n",
    "        freq = self.frequency()\n",
    "        faces = list(freq.keys())\n",
    "        counts = list(freq.values())\n",
    "\n",
    "        plt.bar(faces, counts)\n",
    "        plt.xlabel('Face of die')\n",
    "        plt.ylabel('Frequency')\n",
    "        plt.title('Result of rolls')\n",
    "        plt.show()\n",
    "\n",
    "d = Dice()\n",
    "d.roll()\n",
    "print(\"\\nFace: Frequency\\n\", d.frequency(), \"\\n\")\n",
    "d.histogram()"
   ]
  },
  {
   "cell_type": "markdown",
   "id": "0cb7a056",
   "metadata": {},
   "source": [
    "From the simulation, each face of a fair die appears with basically the same frequency over 10,000 rolls, and the histogram confirms that the die is uniformly distributed."
   ]
  },
  {
   "cell_type": "markdown",
   "id": "a47f4500-c241-4aff-a545-55ec0f517711",
   "metadata": {},
   "source": [
    "## Question 3"
   ]
  },
  {
   "cell_type": "markdown",
   "id": "f6e29adf",
   "metadata": {},
   "source": [
    "- P(D|T+) = (0.999 * 0.0001) / (0.999 * 0.0001 + 0.05 * 0.9999) = 0.001996... about 2%\n",
    "- P(D|T1+, T2+) = (0.9998 * 0.0001) / (0.9998 * 0.0001 + 0.0025 * 0.9999) = 0.0385 ... 3.85%\n",
    "\n",
    "Despite the sensitivity being high, the disease is very rare and the 5% false-positive rate will cause many people who don't have the disease to test positive, overwhelming the few real positives. This makes most of the positive test results, false-positives instead of true-positives."
   ]
  },
  {
   "cell_type": "code",
   "execution_count": 11,
   "id": "a848325c-4762-4e88-ab5d-79113c55e855",
   "metadata": {},
   "outputs": [
    {
     "name": "stdout",
     "output_type": "stream",
     "text": [
      "(0.0018174918612315005, 0.03428786737000754)\n"
     ]
    }
   ],
   "source": [
    "def simulate(tries = 1000000):\n",
    "    \"\"\"Monte-Carlo simulation of testing for a 0.01% disease with 99.99% true positive and 5% false positive rate\"\"\"\n",
    "\n",
    "    one_pos_count = 0\n",
    "    one_pos_and_disease = 0\n",
    "    two_pos_count = 0\n",
    "    two_pos_and_disease = 0\n",
    "\n",
    "    for _ in range(tries):\n",
    "        d = random.random() < 0.0001\n",
    "\n",
    "        t1 = random.random() < (0.9999 if d else 0.05)\n",
    "        t2 = random.random() < (0.9999 if d else 0.05)\n",
    "\n",
    "        if t1:\n",
    "            one_pos_count += 1\n",
    "            if d:\n",
    "                one_pos_and_disease += 1\n",
    "\n",
    "        if t1 and t2:\n",
    "            two_pos_count += 1\n",
    "            if d:\n",
    "                two_pos_and_disease += 1\n",
    "\n",
    "    return one_pos_and_disease / one_pos_count, two_pos_and_disease / two_pos_count\n",
    "\n",
    "print(simulate())"
   ]
  },
  {
   "cell_type": "markdown",
   "id": "2d6a479a-2f61-4412-84c9-c05653451cfa",
   "metadata": {},
   "source": [
    "## Question 4"
   ]
  },
  {
   "cell_type": "code",
   "execution_count": null,
   "id": "5a104d3f-907c-4e18-bafd-38e1ab2fd30e",
   "metadata": {},
   "outputs": [],
   "source": []
  }
 ],
 "metadata": {
  "kernelspec": {
   "display_name": "Python 3",
   "language": "python",
   "name": "python3"
  },
  "language_info": {
   "codemirror_mode": {
    "name": "ipython",
    "version": 3
   },
   "file_extension": ".py",
   "mimetype": "text/x-python",
   "name": "python",
   "nbconvert_exporter": "python",
   "pygments_lexer": "ipython3",
   "version": "3.11.9"
  }
 },
 "nbformat": 4,
 "nbformat_minor": 5
}
