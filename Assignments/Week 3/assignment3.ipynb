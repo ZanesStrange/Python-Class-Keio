{
 "cells": [
  {
   "cell_type": "markdown",
   "id": "ddd1e60f-d0e7-4c34-8ce7-b2e70b76ac50",
   "metadata": {},
   "source": [
    "<h1 style=\"text-align: center;\">Introduction to Data Science - Assignment 3</h1>\n",
    "<h3 style=\"text-align: center;\">Name: Hugo Hayashi</h3>\n",
    "<h3 style=\"text-align: center;\">Student ID: 22446441</h3>\n",
    "\n"
   ]
  },
  {
   "cell_type": "markdown",
   "id": "1bee4156-5a40-4551-81e0-1ca0bd6fb91c",
   "metadata": {},
   "source": [
    "## Question 1\n"
   ]
  },
  {
   "cell_type": "code",
   "execution_count": 1,
   "id": "2cd6e68f-39ae-4b51-a2cd-3c2615edc375",
   "metadata": {},
   "outputs": [
    {
     "name": "stdout",
     "output_type": "stream",
     "text": [
      "Second row: [0.19837275 0.42881951 0.80114682 0.449579   0.52903622 0.55574388\n",
      " 0.81365909 0.21337757 0.28793922 0.67979235]\n",
      "\n",
      "Third column: \n",
      "[0.49787868 0.80114682 0.15392706 0.45793131 0.31836191 0.4667664\n",
      " 0.10924011 0.10570352 0.65432114 0.02728336]\n",
      "\n",
      "Third column edited: \n",
      "[4.97878677 8.01146818 1.5392706  4.57931305 3.18361906 4.66766396\n",
      " 1.09240113 1.05703518 6.54321137 0.27283362]\n"
     ]
    }
   ],
   "source": [
    "# Your fancy code here\n",
    "import numpy as np\n",
    "import pandas as pd\n",
    "\n",
    "matrix = np.random.rand(10, 10) # Generates a 10 x 10 matrix using the NumPy function for generating random numbers\n",
    "second_row = matrix[1, :] # Extracts the second row\n",
    "print(f\"Second row: {second_row}\")\n",
    "third_column = matrix[:, 2] # Extracts the third column\n",
    "print(f\"\\nThird column: \\n{third_column}\")\n",
    "third_column *= 10 # Multiplies the third column by 10\n",
    "print(f\"\\nThird column edited: \\n{third_column}\")\n",
    "df = pd.DataFrame(matrix) # Coverts the modified matrix to a DataFrame\n",
    "df.to_csv('df.csv') # Exports the DataFrame to a CSV file"
   ]
  },
  {
   "cell_type": "markdown",
   "id": "9a92e31e-d8f1-46bf-b76e-c17eb701cb49",
   "metadata": {},
   "source": [
    "## Question 2"
   ]
  },
  {
   "cell_type": "code",
   "execution_count": 2,
   "id": "b8a96f5e-04d2-4904-873e-3d14d69baca1",
   "metadata": {},
   "outputs": [
    {
     "name": "stdout",
     "output_type": "stream",
     "text": [
      "  Country Name Country Code  Year         Value\n",
      "0  Afghanistan          AFG  2000  3.521418e+09\n",
      "1  Afghanistan          AFG  2001  2.813572e+09\n",
      "2  Afghanistan          AFG  2002  3.825701e+09\n",
      "3  Afghanistan          AFG  2003  4.520947e+09\n",
      "4  Afghanistan          AFG  2004  5.224897e+09\n",
      "5  Afghanistan          AFG  2005  6.203257e+09\n",
      "6  Afghanistan          AFG  2006  6.971758e+09\n",
      "7  Afghanistan          AFG  2007  9.747886e+09\n",
      "8  Afghanistan          AFG  2008  1.010930e+10\n",
      "9  Afghanistan          AFG  2009  1.241615e+10\n",
      "\n",
      "Mean:\n",
      "Country Name\n",
      "Afghanistan                    1.309344e+10\n",
      "Africa Eastern and Southern    3.766765e+11\n",
      "Africa Western and Central     2.795214e+11\n",
      "Albania                        7.868635e+09\n",
      "Algeria                        7.971057e+10\n",
      "                                   ...     \n",
      "West Bank and Gaza             9.448803e+09\n",
      "World                          3.356915e+13\n",
      "Yemen, Rep.                    2.087460e+10\n",
      "Zambia                         8.339744e+09\n",
      "Zimbabwe                       8.722444e+09\n",
      "Name: Value, Length: 262, dtype: float64\n",
      "\n",
      "Standard deviation:\n",
      "Country Name\n",
      "Afghanistan                    6.418341e+09\n",
      "Africa Eastern and Southern    3.655828e+11\n",
      "Africa Western and Central     2.892601e+11\n",
      "Albania                        6.072031e+09\n",
      "Algeria                        7.622343e+10\n",
      "                                   ...     \n",
      "West Bank and Gaza             5.660829e+09\n",
      "World                          3.126725e+13\n",
      "Yemen, Rep.                    1.121958e+10\n",
      "Zambia                         9.211725e+09\n",
      "Zimbabwe                       7.631959e+09\n",
      "Name: Value, Length: 262, dtype: float64\n",
      "\n",
      "Sum:\n",
      "Country Name\n",
      "Afghanistan                    3.011490e+11\n",
      "Africa Eastern and Southern    2.410729e+13\n",
      "Africa Western and Central     1.788937e+13\n",
      "Albania                        3.147454e+11\n",
      "Algeria                        5.101476e+12\n",
      "                                   ...     \n",
      "West Bank and Gaza             2.834641e+11\n",
      "World                          2.148426e+15\n",
      "Yemen, Rep.                    6.053635e+11\n",
      "Zambia                         5.337436e+11\n",
      "Zimbabwe                       5.582364e+11\n",
      "Name: Value, Length: 262, dtype: float64\n",
      "\n",
      "      Country Name Country Code  Year         Value\n",
      "10     Afghanistan          AFG  2010  1.585667e+10\n",
      "11     Afghanistan          AFG  2011  1.780510e+10\n",
      "12     Afghanistan          AFG  2012  1.990733e+10\n",
      "13     Afghanistan          AFG  2013  2.014642e+10\n",
      "14     Afghanistan          AFG  2014  2.049713e+10\n",
      "...            ...          ...   ...           ...\n",
      "13974     Zimbabwe          ZWE  2019  2.183223e+10\n",
      "13975     Zimbabwe          ZWE  2020  2.150970e+10\n",
      "13976     Zimbabwe          ZWE  2021  2.837124e+10\n",
      "13977     Zimbabwe          ZWE  2022  2.736663e+10\n",
      "13978     Zimbabwe          ZWE  2023  2.653827e+10\n",
      "\n",
      "[5175 rows x 4 columns]\n",
      "\n",
      "      Country Name Country Code  Year         Value          Mean  Growth Rate\n",
      "0      Afghanistan          AFG  2000  3.521418e+09  1.309344e+10     0.000000\n",
      "1      Afghanistan          AFG  2001  2.813572e+09  1.309344e+10   -20.101172\n",
      "2      Afghanistan          AFG  2002  3.825701e+09  1.309344e+10    35.973125\n",
      "3      Afghanistan          AFG  2003  4.520947e+09  1.309344e+10    18.173017\n",
      "4      Afghanistan          AFG  2004  5.224897e+09  1.309344e+10    15.570851\n",
      "...            ...          ...   ...           ...           ...          ...\n",
      "13974     Zimbabwe          ZWE  2019  2.183223e+10  8.722444e+09   -36.080951\n",
      "13975     Zimbabwe          ZWE  2020  2.150970e+10  8.722444e+09    -1.477341\n",
      "13976     Zimbabwe          ZWE  2021  2.837124e+10  8.722444e+09    31.899751\n",
      "13977     Zimbabwe          ZWE  2022  2.736663e+10  8.722444e+09    -3.540950\n",
      "13978     Zimbabwe          ZWE  2023  2.653827e+10  8.722444e+09    -3.026875\n",
      "\n",
      "[13979 rows x 6 columns]\n"
     ]
    }
   ],
   "source": [
    "#More code and comments...\n",
    "df = pd.read_csv('gdp.csv') # Loads the CSV file into a DataFrame\n",
    "ten_rows = df.head(10) # Displays the first 10 rows of the Dataframe\n",
    "print(ten_rows)\n",
    "group = df.groupby('Country Name')['Value'] # Calculates the mean, standard deviation, and sum of the GDP for each country\n",
    "group_mean = group.mean()\n",
    "group_stdev = group.std()\n",
    "group_sum = group.sum()\n",
    "print(f\"\\nMean:\\n{group_mean}\\n\\nStandard deviation:\\n{group_stdev}\\n\\nSum:\\n{group_sum}\")\n",
    "group_mean = pd.DataFrame(group_mean) # Filters the DataFrame to include only rows where the GDP is greater than the mean GDP for that country\n",
    "group_mean.rename(columns={'Value': 'Mean'}, inplace=True)\n",
    "df = pd.merge(df, group_mean, on = 'Country Name')\n",
    "filtered_df = df[df['Value'] > df['Mean']]\n",
    "filtered_df = filtered_df.drop(columns = ['Mean'])\n",
    "print(f\"\\n{filtered_df}\")\n",
    "df['Growth Rate'] = df['Value'].pct_change(periods = 1) * 100 # Calculates the growth rate of GDP for each country\n",
    "df = df.fillna(0)\n",
    "print(f\"\\n{df}\")"
   ]
  },
  {
   "cell_type": "markdown",
   "id": "a47f4500-c241-4aff-a545-55ec0f517711",
   "metadata": {},
   "source": [
    "## Question 3"
   ]
  },
  {
   "cell_type": "code",
   "execution_count": 3,
   "id": "a848325c-4762-4e88-ab5d-79113c55e855",
   "metadata": {},
   "outputs": [
    {
     "name": "stdout",
     "output_type": "stream",
     "text": [
      "df1:\n",
      "    ID    Name  Age\n",
      "0  123   Omori   15\n",
      "1  234   Basil   16\n",
      "2  345     Kel   17\n",
      "3  456  Aubrey   16\n",
      "4  567    Hero   19\n",
      "5  678    Mari   17\n",
      "\n",
      "df2:\n",
      "    ID  Salary   Department\n",
      "0  123   50000        Music\n",
      "1  234   20000  Agriculture\n",
      "2  345   48000       Sports\n",
      "3  456   30000       Sports\n",
      "4  567   80000     Medicine\n",
      "5  678   60000        Music\n",
      "\n",
      "\n",
      "Merged_df:\n",
      "    ID    Name  Age  Salary   Department\n",
      "0  123   Omori   15   50000        Music\n",
      "1  234   Basil   16   20000  Agriculture\n",
      "2  345     Kel   17   48000       Sports\n",
      "3  456  Aubrey   16   30000       Sports\n",
      "4  567    Hero   19   80000     Medicine\n",
      "5  678    Mari   17   60000        Music\n",
      "\n",
      "\n",
      "Average salary for each department:\n",
      "Department\n",
      "Agriculture    20000.0\n",
      "Medicine       80000.0\n",
      "Music          55000.0\n",
      "Sports         39000.0\n",
      "Name: Salary, dtype: float64\n",
      "\n",
      "\n",
      "Sorted_df:\n",
      "    ID    Name  Age  Salary   Department\n",
      "4  567    Hero   19   80000     Medicine\n",
      "5  678    Mari   17   60000        Music\n",
      "0  123   Omori   15   50000        Music\n",
      "2  345     Kel   17   48000       Sports\n",
      "3  456  Aubrey   16   30000       Sports\n",
      "1  234   Basil   16   20000  Agriculture\n"
     ]
    }
   ],
   "source": [
    "df1 = pd.DataFrame({'ID': ['123', '234', '345', '456', '567', '678'], 'Name': ['Omori', 'Basil', 'Kel', 'Aubrey', 'Hero', 'Mari'], 'Age': [15, 16, 17, 16, 19, 17]})\n",
    "df2 = pd.DataFrame({'ID': ['123', '234', '345', '456', '567', '678'], 'Salary': [50000, 20000, 48000, 30000, 80000, 60000], 'Department': ['Music', 'Agriculture', 'Sports', 'Sports', 'Medicine', 'Music']})\n",
    "print(f\"df1:\\n{df1}\\n\\ndf2:\\n{df2}\")\n",
    "merged_df = pd.merge(df1, df2, on = 'ID') # Merges df1 and df2 on the 'ID' column\n",
    "print(f\"\\n\\nMerged_df:\\n{merged_df}\")\n",
    "average_salary = merged_df.groupby('Department')['Salary'].mean() # Computes the average salary for each department\n",
    "print(f\"\\n\\nAverage salary for each department:\\n{average_salary}\")\n",
    "sorted_df = merged_df.sort_values(by = 'Salary', ascending = False) # Sorts the merged DataFram by salary in descending order and exports the result to a CSV file\n",
    "print(f\"\\n\\nSorted_df:\\n{sorted_df}\")\n",
    "sorted_df.to_csv('sorted_df.csv')"
   ]
  },
  {
   "cell_type": "markdown",
   "id": "2d6a479a-2f61-4412-84c9-c05653451cfa",
   "metadata": {},
   "source": [
    "## Question 4"
   ]
  },
  {
   "cell_type": "code",
   "execution_count": null,
   "id": "5a104d3f-907c-4e18-bafd-38e1ab2fd30e",
   "metadata": {},
   "outputs": [],
   "source": []
  }
 ],
 "metadata": {
  "kernelspec": {
   "display_name": "Python 3 (ipykernel)",
   "language": "python",
   "name": "python3"
  },
  "language_info": {
   "codemirror_mode": {
    "name": "ipython",
    "version": 3
   },
   "file_extension": ".py",
   "mimetype": "text/x-python",
   "name": "python",
   "nbconvert_exporter": "python",
   "pygments_lexer": "ipython3",
   "version": "3.13.0"
  }
 },
 "nbformat": 4,
 "nbformat_minor": 5
}
