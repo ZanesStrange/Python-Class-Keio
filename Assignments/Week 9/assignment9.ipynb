{
 "cells": [
  {
   "cell_type": "markdown",
   "id": "ddd1e60f-d0e7-4c34-8ce7-b2e70b76ac50",
   "metadata": {},
   "source": [
    "<h1 style=\"text-align: center;\">Introduction to Data Science - Assignment 9</h1>\n",
    "<h3 style=\"text-align: center;\">Name: Hugo Hayashi</h3>\n",
    "<h3 style=\"text-align: center;\">Student ID: 22446441</h3>\n",
    "\n"
   ]
  },
  {
   "cell_type": "markdown",
   "id": "1bee4156-5a40-4551-81e0-1ca0bd6fb91c",
   "metadata": {},
   "source": [
    "## Question 1\n"
   ]
  },
  {
   "cell_type": "code",
   "execution_count": 21,
   "id": "2cd6e68f-39ae-4b51-a2cd-3c2615edc375",
   "metadata": {},
   "outputs": [
    {
     "name": "stdout",
     "output_type": "stream",
     "text": [
      "Mean of G1 in math: 10.953353504790721\n",
      "Mean of G1 in Portuguese: 12.154059505799294\n"
     ]
    }
   ],
   "source": [
    "# Your fancy code here\n",
    "import numpy as np\n",
    "import pandas as pd\n",
    "from scipy.stats import norm\n",
    "import requests, zipfile\n",
    "from io import StringIO\n",
    "import io\n",
    "\n",
    "url = 'https://archive.ics.uci.edu/ml/machine-learning-databases/00356/student.zip'\n",
    "\n",
    "r = requests.get(url)\n",
    "\n",
    "z = zipfile.ZipFile(io.BytesIO(r.content))\n",
    "z.extractall()\n",
    "\n",
    "df1 = pd.read_csv('student-mat.csv', sep=';')\n",
    "df2 = pd.read_csv('student-por.csv', sep=';')\n",
    "\n",
    "merged_df = pd.merge(df1, df2, on=('school', 'sex', 'age', 'address', 'famsize', 'Pstatus', 'guardian'))\n",
    "\n",
    "g1_mat = merged_df['G1_x']\n",
    "g1_por = merged_df['G1_y']\n",
    "\n",
    "print(f\"Mean of G1 in math: {g1_mat.mean()}\\nMean of G1 in Portuguese: {g1_por.mean()}\")"
   ]
  },
  {
   "cell_type": "markdown",
   "id": "9a92e31e-d8f1-46bf-b76e-c17eb701cb49",
   "metadata": {},
   "source": [
    "## Question 2"
   ]
  },
  {
   "cell_type": "code",
   "execution_count": null,
   "id": "b8a96f5e-04d2-4904-873e-3d14d69baca1",
   "metadata": {},
   "outputs": [
    {
     "name": "stdout",
     "output_type": "stream",
     "text": [
      "z_obs = -19.28, p_val = 0.0000\n",
      "\n",
      "For a = 0.05, reject H0.\n",
      "\n",
      "For a = 0.01, reject H0.\n",
      "\n"
     ]
    }
   ],
   "source": [
    "#More code and comments...\n",
    "diff = g1_mat - g1_por\n",
    "n = len(diff)\n",
    "\n",
    "alpha_values = [0.05, 0.01]\n",
    "\n",
    "for alpha in alpha_values:\n",
    "    z_obs = diff.mean() / (diff.std(ddof=1) / np.sqrt(n))\n",
    "    z_alpha = norm.ppf(1 - alpha / 2)\n",
    "    p_val = 2 * norm.sf(abs(z_obs))\n",
    "\n",
    "    print(f\"z_obs = {z_obs:.2f}, p_val = {p_val:.4f}\\n\") if alpha == alpha_values[0] else None\n",
    "    \n",
    "    if abs(z_obs) > z_alpha:\n",
    "        decision = f\"For a = {alpha}, reject H0.\\n\"\n",
    "    else:\n",
    "        decision = f\"For a = {alpha}, fail to reject H0.\\n\"\n",
    "\n",
    "    print(decision)"
   ]
  },
  {
   "cell_type": "markdown",
   "id": "0d8c17bb",
   "metadata": {},
   "source": [
    "Since the p-value is much smaller than both α = 0.05 and α = 0.01, as well as the z statistic exceeding the critical value, the null hypothesis was rejected at both significance levels. This demonstrates that the mean G1 scores in math and Portuguese are significantly different."
   ]
  },
  {
   "cell_type": "markdown",
   "id": "a47f4500-c241-4aff-a545-55ec0f517711",
   "metadata": {},
   "source": [
    "## Question 3"
   ]
  },
  {
   "cell_type": "markdown",
   "id": "8d356aed",
   "metadata": {},
   "source": [
    "$H_0: \\mu _\\text{studytime, math} = \\mu _\\text{studytime, por} \\\\ H_a: \\mu _\\text{studytime, math} \\neq \\mu _\\text{studytime, por}$"
   ]
  },
  {
   "cell_type": "code",
   "execution_count": 74,
   "id": "a848325c-4762-4e88-ab5d-79113c55e855",
   "metadata": {},
   "outputs": [
    {
     "name": "stdout",
     "output_type": "stream",
     "text": [
      "z: 3.99, p: 0.0001\n",
      "\n",
      "For a = 0.05, reject null hypothesis.\n"
     ]
    }
   ],
   "source": [
    "st_mat = merged_df['studytime_x']\n",
    "st_por = merged_df['studytime_y']\n",
    "diff = st_mat - st_por\n",
    "n = len(diff)\n",
    "\n",
    "z_obs = diff.mean() / (diff.std(ddof=1) / np.sqrt(n))\n",
    "p_val = 2 * norm.sf(abs(z_obs))\n",
    "\n",
    "z_alpha = norm.ppf(1 - 0.05 / 2)\n",
    "\n",
    "if abs(z_obs) > z_alpha:\n",
    "    decision = \"For a = 0.05, reject null hypothesis.\"\n",
    "else:\n",
    "    decision = \"For a = 0.05, fail to rehect null hypothesis.\"\n",
    "\n",
    "print(f\"z: {z_obs:.2f}, p: {p_val:.4f}\")\n",
    "print(f\"\\n{decision}\")"
   ]
  },
  {
   "cell_type": "markdown",
   "id": "3223cfe2",
   "metadata": {},
   "source": [
    "Since the p-value was less than α = 0.05, and the z statistic was larger than the critical value, the null hypothesis was rejected. Therefore, there is evidence of a significant difference in study time between math and Portuguese students."
   ]
  },
  {
   "cell_type": "markdown",
   "id": "2d6a479a-2f61-4412-84c9-c05653451cfa",
   "metadata": {},
   "source": [
    "## Question 4"
   ]
  },
  {
   "cell_type": "code",
   "execution_count": null,
   "id": "5a104d3f-907c-4e18-bafd-38e1ab2fd30e",
   "metadata": {},
   "outputs": [],
   "source": []
  }
 ],
 "metadata": {
  "kernelspec": {
   "display_name": "base",
   "language": "python",
   "name": "python3"
  },
  "language_info": {
   "codemirror_mode": {
    "name": "ipython",
    "version": 3
   },
   "file_extension": ".py",
   "mimetype": "text/x-python",
   "name": "python",
   "nbconvert_exporter": "python",
   "pygments_lexer": "ipython3",
   "version": "3.12.7"
  }
 },
 "nbformat": 4,
 "nbformat_minor": 5
}
