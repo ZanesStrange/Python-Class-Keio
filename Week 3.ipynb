{
 "cells": [
  {
   "cell_type": "markdown",
   "id": "e593c2a8-d537-4472-8acf-18cc17469c42",
   "metadata": {},
   "source": [
    "# Numpy"
   ]
  },
  {
   "cell_type": "code",
   "execution_count": 4,
   "id": "45e45a8c-6df1-41f7-9b7d-39cc8f3bdf68",
   "metadata": {},
   "outputs": [],
   "source": [
    "import numpy as np"
   ]
  },
  {
   "cell_type": "code",
   "execution_count": 6,
   "id": "b3d63467-438b-48e6-bcde-aadab8185e0e",
   "metadata": {},
   "outputs": [
    {
     "name": "stdout",
     "output_type": "stream",
     "text": [
      "[1 2 3 4 5]\n",
      "[0 2 4 6 8]\n",
      "[0.   0.25 0.5  0.75 1.  ]\n"
     ]
    }
   ],
   "source": [
    "a = np.array([1, 2, 3, 4, 5])\n",
    "b = np.arange(0, 10, 2) #(np.arrange([Starting number], [Less than], [Increment]))\n",
    "c = np.linspace(0, 1, 5) #(np.linspace([Starting number], [Destination], [Divide into x increments]))\n",
    "print(f\"{a}\\n{b}\\n{c}\")"
   ]
  },
  {
   "cell_type": "code",
   "execution_count": 7,
   "id": "8d37d140-d439-4b1b-a6c5-7c08c967bb52",
   "metadata": {},
   "outputs": [
    {
     "name": "stdout",
     "output_type": "stream",
     "text": [
      "Original array [10 20 30 40 50]\n",
      "Element at index 1:  20\n",
      "Modified array:  [10 99 30 40 50]\n"
     ]
    }
   ],
   "source": [
    "a = np.array([10, 20, 30, 40, 50])\n",
    "print(\"Original array\", a)\n",
    "\n",
    "print(\"Element at index 1: \", a[1])\n",
    "\n",
    "a[1] = 99\n",
    "print(\"Modified array: \", a)"
   ]
  },
  {
   "cell_type": "code",
   "execution_count": 8,
   "id": "2a68a930-588f-481d-8c5f-a222ef4542d3",
   "metadata": {},
   "outputs": [
    {
     "name": "stdout",
     "output_type": "stream",
     "text": [
      "[2 3 4]\n",
      "[0 1 2]\n",
      "[0 2 4 6]\n"
     ]
    }
   ],
   "source": [
    "a = np.array([0, 1, 2, 3, 4, 5, 6])\n",
    "print(a[2:5])\n",
    "print(a[:3])\n",
    "print(a[::2])"
   ]
  },
  {
   "cell_type": "code",
   "execution_count": 10,
   "id": "8c069d37-5ce8-49c1-b1de-9442d4457db0",
   "metadata": {},
   "outputs": [
    {
     "name": "stdout",
     "output_type": "stream",
     "text": [
      "[[1 2 3]\n",
      " [4 5 6]]\n"
     ]
    }
   ],
   "source": [
    "matrix = np.array([[1, 2, 3], [4, 5, 6]])\n",
    "print(matrix)"
   ]
  },
  {
   "cell_type": "code",
   "execution_count": 11,
   "id": "788eed45-c4fc-45cb-8381-8a3e16f14872",
   "metadata": {},
   "outputs": [
    {
     "name": "stdout",
     "output_type": "stream",
     "text": [
      "[[1 2]\n",
      " [4 5]]\n",
      "[4 5 6]\n",
      "[2 5 8]\n"
     ]
    }
   ],
   "source": [
    "matrix = np.array([[1, 2, 3], [4, 5, 6], [7, 8, 9]])\n",
    "\n",
    "print(matrix[0:2, 0:2]) # row 0~2 and column 0~2\n",
    "\n",
    "print(matrix[1, :]) # row 1 and column 0~2 (:)\n",
    "\n",
    "print(matrix[:, 1]) # row 0~2 (:) and column 1"
   ]
  },
  {
   "cell_type": "code",
   "execution_count": 13,
   "id": "05974692-c238-45ea-9d87-fd2a96d161ec",
   "metadata": {},
   "outputs": [
    {
     "name": "stdout",
     "output_type": "stream",
     "text": [
      "Original:  [99  2  3  4  5]\n",
      "Modified:  [99  2  3  4  5]\n"
     ]
    }
   ],
   "source": [
    "original = np.array([1, 2, 3, 4, 5])\n",
    "\n",
    "modified = original.copy()\n",
    "\n",
    "modified[0] = 99\n",
    "\n",
    "print(\"Original: \", original)\n",
    "print(\"Modified: \", modified)"
   ]
  },
  {
   "cell_type": "code",
   "execution_count": 21,
   "id": "c4e75e99-0b4d-45a3-827c-551a191bd464",
   "metadata": {},
   "outputs": [
    {
     "name": "stdout",
     "output_type": "stream",
     "text": [
      "(7,)\n",
      "int64\n",
      "7\n"
     ]
    }
   ],
   "source": [
    "print(a.shape)\n",
    "print(a.dtype)\n",
    "print(a.size)"
   ]
  },
  {
   "cell_type": "code",
   "execution_count": 22,
   "id": "1b13dfd6-097e-4603-9c11-e0e395f23f8e",
   "metadata": {},
   "outputs": [
    {
     "name": "stdout",
     "output_type": "stream",
     "text": [
      "(2, 2, 3)\n"
     ]
    }
   ],
   "source": [
    "three_dimension = np.array([[[1, 2, 3], [1, 2, 3]], [[1, 2, 3,], [1, 2, 3]]])\n",
    "print(three_dimension.shape)"
   ]
  },
  {
   "cell_type": "code",
   "execution_count": 27,
   "id": "25ef2a01-3df3-49d6-9d69-3612f4d22d44",
   "metadata": {},
   "outputs": [
    {
     "name": "stdout",
     "output_type": "stream",
     "text": [
      "[0 1 2 3 4 5 6]\n",
      "[ 0  2  4  6  8 10 12]\n",
      "[10 11 12 13 14 15 16]\n",
      "[  0  22  48  78 112 150 192]\n"
     ]
    }
   ],
   "source": [
    "print(a)\n",
    "d = a * 2\n",
    "e = a + np.array([10])\n",
    "f = np.array([1, 2, 3])\n",
    "print(d)\n",
    "print(e)\n",
    "print(e * d)\n",
    "print(d * f) # This will not work\n",
    "# If you want to multiply arrays together they need to be\n",
    "# the same shape or dimensions"
   ]
  },
  {
   "cell_type": "code",
   "execution_count": 28,
   "id": "8efd19ba-894e-462d-8a45-66b408fcaf5f",
   "metadata": {},
   "outputs": [
    {
     "name": "stdout",
     "output_type": "stream",
     "text": [
      "[ 0.          0.84147098  0.90929743  0.14112001 -0.7568025  -0.95892427\n",
      " -0.2794155 ]\n"
     ]
    }
   ],
   "source": [
    "f = np.sin(a)\n",
    "print(f) # \"np.sin(a)\" pplies sine to each element of a"
   ]
  },
  {
   "cell_type": "code",
   "execution_count": 37,
   "id": "3be5455b-0c9f-46c9-9fdf-c57ca743aab4",
   "metadata": {},
   "outputs": [
    {
     "name": "stdout",
     "output_type": "stream",
     "text": [
      "[ 0  1  2  3  4  5  6  7  8  9 10 11]\n",
      "[[ 0  1  2  3]\n",
      " [ 4  5  6  7]\n",
      " [ 8  9 10 11]]\n"
     ]
    }
   ],
   "source": [
    "a = np.arange(12)\n",
    "print(a)\n",
    "a_reshaped = a.reshape((3, 4))\n",
    "print(a_reshaped)"
   ]
  },
  {
   "cell_type": "code",
   "execution_count": 39,
   "id": "4ac2ce37-529f-4acb-a0ce-667f8404a2ed",
   "metadata": {},
   "outputs": [
    {
     "name": "stdout",
     "output_type": "stream",
     "text": [
      "[[ 0  1  2  3]\n",
      " [ 4  5  6  7]\n",
      " [ 8  9 10 11]]\n",
      "[[ 0  1  2  3]\n",
      " [ 4  5  6  7]\n",
      " [ 8  9 10 11]]\n"
     ]
    }
   ],
   "source": [
    "b = a_reshaped\n",
    "c = a_reshaped.copy()\n",
    "print(f\"{b}\\n{c}\")"
   ]
  },
  {
   "cell_type": "code",
   "execution_count": 44,
   "id": "b023e9a7-d5ad-42d8-8585-3c3b3618e423",
   "metadata": {},
   "outputs": [
    {
     "name": "stdout",
     "output_type": "stream",
     "text": [
      "Mean:  [4. 5. 6.]\n",
      "Sum:  [12 15 18]\n",
      "Std Dev:  [2.44948974 2.44948974 2.44948974]\n",
      "[[1 2 3]\n",
      " [4 5 6]\n",
      " [7 8 9]]\n"
     ]
    }
   ],
   "source": [
    "print(\"Mean: \", np.mean(matrix, axis=0))\n",
    "print(\"Sum: \", np.sum(matrix, axis=0))\n",
    "print(\"Std Dev: \", np.std(matrix, axis=0))\n",
    "print(matrix)"
   ]
  },
  {
   "cell_type": "markdown",
   "id": "1506a7c5-2217-4c04-b620-0b2edb07caca",
   "metadata": {},
   "source": [
    "# Pandas"
   ]
  },
  {
   "cell_type": "code",
   "execution_count": 42,
   "id": "61515d67-5afe-42bd-ab62-9c6ce763ece1",
   "metadata": {},
   "outputs": [],
   "source": [
    "import pandas as pd\n",
    "import csv"
   ]
  },
  {
   "cell_type": "markdown",
   "id": "4fda625e-c783-4a27-8da6-0a5578dade6c",
   "metadata": {},
   "source": [
    "### Series: A one-dimensional labeled array."
   ]
  },
  {
   "cell_type": "code",
   "execution_count": 43,
   "id": "425d0ca8-4f40-4c3e-acbb-1e920d52b0ce",
   "metadata": {},
   "outputs": [
    {
     "name": "stdout",
     "output_type": "stream",
     "text": [
      "0    10\n",
      "1    20\n",
      "2    30\n",
      "3    40\n",
      "4    50\n",
      "dtype: int64\n"
     ]
    }
   ],
   "source": [
    "s = pd.Series([10, 20, 30, 40, 50])\n",
    "print(s)"
   ]
  },
  {
   "cell_type": "markdown",
   "id": "521707dd-3c09-46fe-9a80-c4c2892022e1",
   "metadata": {},
   "source": [
    "### DataFrame: A two-dimensional labeled data structure with columns of potentially different"
   ]
  },
  {
   "cell_type": "code",
   "execution_count": 45,
   "id": "9ffa62e0-c17c-4852-b6fa-00084b521e55",
   "metadata": {},
   "outputs": [
    {
     "name": "stdout",
     "output_type": "stream",
     "text": [
      "      Name  Age  Salary\n",
      "0    Alice   25   50000\n",
      "1      Bob   30   60000\n",
      "2  Charlie   35   70000\n",
      "3    David   40   80000\n"
     ]
    }
   ],
   "source": [
    "data = {\n",
    "    'Name': ['Alice', 'Bob', 'Charlie', 'David'],\n",
    "    'Age': [25, 30, 35, 40],\n",
    "    'Salary': [50000, 60000, 70000, 80000]\n",
    "}\n",
    "df = pd.DataFrame(data)\n",
    "print(df)"
   ]
  },
  {
   "cell_type": "code",
   "execution_count": 52,
   "id": "e921aa43-f08e-4f1b-b3d8-597141752140",
   "metadata": {},
   "outputs": [
    {
     "name": "stdout",
     "output_type": "stream",
     "text": [
      "   Index      Customer Id First Name Last Name  \\\n",
      "0      1  DD37Cf93aecA6Dc     Sheryl    Baxter   \n",
      "1      2  1Ef7b82A4CAAD10    Preston    Lozano   \n",
      "2      3  6F94879bDAfE5a6        Roy     Berry   \n",
      "3      4  5Cef8BFA16c5e3c      Linda     Olsen   \n",
      "4      5  053d585Ab6b3159     Joanna    Bender   \n",
      "\n",
      "                           Company               City  \\\n",
      "0                  Rasmussen Group       East Leonard   \n",
      "1                      Vega-Gentry  East Jimmychester   \n",
      "2                    Murillo-Perry      Isabelborough   \n",
      "3  Dominguez, Mcmillan and Donovan         Bensonview   \n",
      "4         Martin, Lang and Andrade     West Priscilla   \n",
      "\n",
      "                      Country                 Phone 1                Phone 2  \\\n",
      "0                       Chile            229.077.5154       397.884.0519x718   \n",
      "1                    Djibouti              5153435776       686-620-1820x944   \n",
      "2         Antigua and Barbuda         +1-539-402-0259    (496)978-3969x58947   \n",
      "3          Dominican Republic  001-808-617-6467x12895        +1-813-324-8756   \n",
      "4  Slovakia (Slovak Republic)  001-234-203-0635x76146  001-199-446-3860x3486   \n",
      "\n",
      "                         Email Subscription Date                      Website  \n",
      "0     zunigavanessa@smith.info        2020-08-24   http://www.stephenson.com/  \n",
      "1              vmata@colon.com        2021-04-23        http://www.hobbs.com/  \n",
      "2          beckycarr@hogan.com        2020-03-25     http://www.lawrence.com/  \n",
      "3  stanleyblackwell@benson.org        2020-06-02   http://www.good-lyons.com/  \n",
      "4      colinalvarado@miles.net        2021-04-17  https://goodwin-ingram.com/  \n"
     ]
    }
   ],
   "source": [
    "df = pd.read_csv('customers-100.csv')\n",
    "print(df.head())"
   ]
  },
  {
   "cell_type": "code",
   "execution_count": 17,
   "id": "5c773140-4abb-43b0-ab0d-12cc749d5693",
   "metadata": {},
   "outputs": [
    {
     "name": "stdout",
     "output_type": "stream",
     "text": [
      "      Name  Age         City\n",
      "0    Alice   25     New York\n",
      "1      Bob   30  Los Angeles\n",
      "2  Charlie   35      Chicago\n",
      "\n",
      "\n",
      "<class 'pandas.core.frame.DataFrame'>\n",
      "RangeIndex: 3 entries, 0 to 2\n",
      "Data columns (total 3 columns):\n",
      " #   Column  Non-Null Count  Dtype \n",
      "---  ------  --------------  ----- \n",
      " 0   Name    3 non-null      object\n",
      " 1   Age     3 non-null      int64 \n",
      " 2   City    3 non-null      object\n",
      "dtypes: int64(1), object(2)\n",
      "memory usage: 204.0+ bytes\n",
      "None\n",
      "\n",
      "\n",
      "        Age\n",
      "count   3.0\n",
      "mean   30.0\n",
      "std     5.0\n",
      "min    25.0\n",
      "25%    27.5\n",
      "50%    30.0\n",
      "75%    32.5\n",
      "max    35.0\n",
      "      Name  Age     City\n",
      "2  Charlie   35  Chicago\n"
     ]
    }
   ],
   "source": [
    "print(f\"{df.head()}\\n\\n\")\n",
    "print(f\"{df.info()}\\n\\n\")\n",
    "print(f\"{df.describe()}\")\n",
    "df_filtered = df[df['Age'] > 30]\n",
    "print(df_filtered)"
   ]
  },
  {
   "cell_type": "code",
   "execution_count": 16,
   "id": "d821df44-a09f-4a7d-bd84-10629f93c321",
   "metadata": {},
   "outputs": [
    {
     "name": "stdout",
     "output_type": "stream",
     "text": [
      "Using loc:  Alice\n",
      "Using iloc:  25\n"
     ]
    }
   ],
   "source": [
    "import pandas as pd\n",
    "data = {'Name': ['Alice', 'Bob', 'Charlie'], 'Age': [25, 30, 35], 'City': ['New York', 'Los Angeles', 'Chicago']}\n",
    "df = pd.DataFrame(data)\n",
    "names = df['Name']\n",
    "result_loc = df.loc[0, 'Name'] # \"pd.loc[]\" is a label based index function\n",
    "result_iloc = df.iloc[0, 1] # \"pd.iloc[]\" is an integer based index function\n",
    "\n",
    "print(\"Using loc: \", result_loc)\n",
    "print(\"Using iloc: \", result_iloc)"
   ]
  },
  {
   "cell_type": "code",
   "execution_count": 58,
   "id": "847c96b9-5d5d-4c4e-9d2a-dbf7956a2326",
   "metadata": {},
   "outputs": [
    {
     "name": "stdout",
     "output_type": "stream",
     "text": [
      "      Name  Age     City\n",
      "2  Charlie   35  Chicago\n"
     ]
    }
   ],
   "source": [
    "filtered_df = df[df['Age'] > 30]\n",
    "print(filtered_df)"
   ]
  },
  {
   "cell_type": "code",
   "execution_count": 63,
   "id": "ba22d134-1240-45a9-bd39-58eda8750ff4",
   "metadata": {},
   "outputs": [
    {
     "name": "stdout",
     "output_type": "stream",
     "text": [
      "      Name  Age         City\n",
      "0    Alice   25     New York\n",
      "1      Bob   30  Los Angeles\n",
      "2  Charlie   35      Chicago\n",
      "3  Unknown    0          NaN\n",
      "    Name    Age   City\n",
      "0  False  False  False\n",
      "1  False  False  False\n",
      "2  False  False  False\n",
      "3  False  False   True\n",
      "      Name  Age         City\n",
      "0    Alice   25     New York\n",
      "1      Bob   30  Los Angeles\n",
      "2  Charlie   35      Chicago\n",
      "3  Unknown    0            0\n",
      "      Name  Age         City\n",
      "0    Alice   25     New York\n",
      "1      Bob   30  Los Angeles\n",
      "2  Charlie   35      Chicago\n"
     ]
    }
   ],
   "source": [
    "new_row = {\"Name\": \"Unknown\", \"Age\": 0}\n",
    "df = pd.concat([df, pd.DataFrame([new_row])], ignore_index = True)\n",
    "print(df)\n",
    "\n",
    "print(df.isna())\n",
    "\n",
    "df_filled = df.fillna(0)\n",
    "\n",
    "df_dropped = df.dropna()\n",
    "\n",
    "print(df_filled)\n",
    "print(df_dropped)"
   ]
  },
  {
   "cell_type": "code",
   "execution_count": 65,
   "id": "16e2bf83-61ba-4dff-be52-3d691dfd60ba",
   "metadata": {},
   "outputs": [
    {
     "name": "stdout",
     "output_type": "stream",
     "text": [
      "Original DataFrame:\n",
      "      Name  Age  Salary\n",
      "0    Alice   25   50000\n",
      "1      Bob   30   60000\n",
      "2  Charlie   25   55000\n",
      "3    David   40   80000\n",
      "4      Eva   30   65000\n",
      "Grouped by Age (Mean Salary):\n",
      "Age\n",
      "25    52500.0\n",
      "30    62500.0\n",
      "40    80000.0\n",
      "Name: Salary, dtype: float64\n"
     ]
    }
   ],
   "source": [
    "data = {\n",
    "    'Name': ['Alice', 'Bob', 'Charlie', 'David', 'Eva'],\n",
    "    'Age': [25, 30, 25, 40, 30],\n",
    "    'Salary': [50000, 60000, 55000, 80000, 65000]\n",
    "}\n",
    "df = pd.DataFrame(data)\n",
    "print(\"Original DataFrame:\")\n",
    "print(df)\n",
    "\n",
    "grouped = df.groupby('Age')['Salary'].mean()\n",
    "print(\"Grouped by Age (Mean Salary):\")\n",
    "print(grouped)"
   ]
  },
  {
   "cell_type": "code",
   "execution_count": null,
   "id": "54e7abf2-7737-4011-ad8b-05c016f6b707",
   "metadata": {},
   "outputs": [],
   "source": []
  }
 ],
 "metadata": {
  "kernelspec": {
   "display_name": "Python 3 (ipykernel)",
   "language": "python",
   "name": "python3"
  },
  "language_info": {
   "codemirror_mode": {
    "name": "ipython",
    "version": 3
   },
   "file_extension": ".py",
   "mimetype": "text/x-python",
   "name": "python",
   "nbconvert_exporter": "python",
   "pygments_lexer": "ipython3",
   "version": "3.13.0"
  }
 },
 "nbformat": 4,
 "nbformat_minor": 5
}
