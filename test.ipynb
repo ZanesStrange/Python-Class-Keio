{
 "cells": [
  {
   "cell_type": "code",
   "execution_count": 2,
   "id": "79bf50db-a508-447f-a9bd-5a11b21b1263",
   "metadata": {},
   "outputs": [
    {
     "name": "stdout",
     "output_type": "stream",
     "text": [
      "[[1 2 3]\n",
      " [4 5 6]]\n"
     ]
    }
   ],
   "source": [
    "import numpy as np\n",
    "a = np.array([[1, 2, 3], [4, 5, 6]])\n",
    "print(a)"
   ]
  },
  {
   "cell_type": "code",
   "execution_count": 33,
   "id": "03950c73-f629-4f5b-8371-77fbae7ec062",
   "metadata": {},
   "outputs": [
    {
     "name": "stdin",
     "output_type": "stream",
     "text": [
      " 1992\n"
     ]
    },
    {
     "name": "stdout",
     "output_type": "stream",
     "text": [
      "True\n"
     ]
    }
   ],
   "source": [
    "def is_leap(year):\n",
    "    leap = False\n",
    "    \n",
    "    if 1900 <= year <= 10 ** 5:\n",
    "        if ((year/4.0)).is_integer():\n",
    "            if ((year/400.0)).is_integer():\n",
    "                leap = not leap\n",
    "                return leap\n",
    "            elif ((year/100.0)).is_integer():\n",
    "                return leap\n",
    "            else:\n",
    "                leap = not leap\n",
    "                return leap\n",
    "        else:\n",
    "            return leap\n",
    "    else:\n",
    "        return leap\n",
    "\n",
    "year = int(input())\n",
    "print(is_leap(year))"
   ]
  },
  {
   "cell_type": "code",
   "execution_count": 9,
   "id": "43eb915a-84db-43d0-92f3-11b90327cf81",
   "metadata": {},
   "outputs": [
    {
     "name": "stdout",
     "output_type": "stream",
     "text": [
      "True\n"
     ]
    }
   ],
   "source": [
    "leap = False\n",
    "leap = not leap\n",
    "print(leap)"
   ]
  },
  {
   "cell_type": "code",
   "execution_count": 17,
   "id": "19aae4cb-6d96-49df-9eba-515434d5a375",
   "metadata": {},
   "outputs": [
    {
     "name": "stdout",
     "output_type": "stream",
     "text": [
      "True\n"
     ]
    }
   ],
   "source": [
    "n = 2000\n",
    "if ((n/4.0)).is_integer():\n",
    "    print(True)\n",
    "else:\n",
    "    print(False)"
   ]
  },
  {
   "cell_type": "code",
   "execution_count": 1,
   "id": "8e35d63c-ec5a-46dd-8460-bf1a80ca969f",
   "metadata": {},
   "outputs": [
    {
     "name": "stdout",
     "output_type": "stream",
     "text": [
      "Economic contraction detected!\n"
     ]
    }
   ],
   "source": [
    "gdp_current = 2100\n",
    "gdp_previous = 2150\n",
    "\n",
    "is_recession = gdp_current < gdp_previous\n",
    "\n",
    "if is_recession:\n",
    "    print(\"Economic contraction detected!\")\n",
    "else:\n",
    "    print(\"Economy growing normally\")"
   ]
  },
  {
   "cell_type": "code",
   "execution_count": 2,
   "id": "1aee6ec4-00ff-402f-aa82-8647996a54c2",
   "metadata": {},
   "outputs": [
    {
     "name": "stdout",
     "output_type": "stream",
     "text": [
      "Grade: A\n"
     ]
    }
   ],
   "source": [
    "score = 84\n",
    "grade = \"S\" if score >= 90 else \"A\" if score >= 80 else \"B\"\n",
    "print(f\"Grade: {grade}\")"
   ]
  },
  {
   "cell_type": "code",
   "execution_count": 4,
   "id": "38d7f7d3-3d81-4314-8490-aa05eaa9f3ce",
   "metadata": {},
   "outputs": [
    {
     "name": "stdout",
     "output_type": "stream",
     "text": [
      "Good economy!\n"
     ]
    }
   ],
   "source": [
    "gdp_current = 2100\n",
    "gdp_previous = 2150\n",
    "\n",
    "is_recession = gdp_current < gdp_previous\n",
    "\n",
    "print(\"Good economy!\") if is_recession else print(\"gg\")"
   ]
  },
  {
   "cell_type": "code",
   "execution_count": 6,
   "id": "d9bcbbcb-0939-496d-98f9-e7cbf50acf8f",
   "metadata": {},
   "outputs": [
    {
     "name": "stdout",
     "output_type": "stream",
     "text": [
      "Original list: [1, 2, 3, 4, 5]\n",
      "First element: 1\n",
      "Last element: 5\n",
      "Slice [1:4]: [2, 3, 4]\n",
      "After modification: [1, 2, 99, 4, 5]\n",
      "After appending: [1, 2, 99, 4, 5, 6]\n"
     ]
    }
   ],
   "source": [
    "numbers = [1, 2, 3, 4, 5]\n",
    "print(f\"Original list: {numbers}\")\n",
    "\n",
    "print(f\"First element: {numbers[0]}\")\n",
    "print(f\"Last element: {numbers[-1]}\")\n",
    "\n",
    "print(f\"Slice [1:4]: {numbers[1:4]}\")\n",
    "\n",
    "numbers[2] = 99\n",
    "print(f\"After modification: {numbers}\")\n",
    "\n",
    "numbers.append(6)\n",
    "print(f\"After appending: {numbers}\")"
   ]
  },
  {
   "cell_type": "code",
   "execution_count": 8,
   "id": "21ee303b-82f2-4ee5-bc2b-a283054c6783",
   "metadata": {},
   "outputs": [
    {
     "name": "stdout",
     "output_type": "stream",
     "text": [
      "Mixed List: [42, 'Python', 3.14, True]\n",
      "Element 0: 42 (Type: int)\n",
      "Element 1: Python (Type: str)\n",
      "Element 2: 3.14 (Type: float)\n",
      "Element 3: True (Type: float)\n"
     ]
    }
   ],
   "source": [
    "mixed_list = [42, \"Python\", 3.14, True]\n",
    "print(f\"Mixed List: {mixed_list}\")\n",
    "\n",
    "print(f\"Element 0: {mixed_list[0]} (Type: {type(mixed_list[0]).__name__})\")\n",
    "print(f\"Element 1: {mixed_list[1]} (Type: {type(mixed_list[1]).__name__})\")\n",
    "print(f\"Element 2: {mixed_list[2]} (Type: {type(mixed_list[2]).__name__})\")\n",
    "print(f\"Element 3: {mixed_list[3]} (Type: {type(mixed_list[2]).__name__})\")\n",
    "\n",
    "# Example of error: adding imcompatible types\n",
    "result = mixed_list[0] + mixed_list[1]\n",
    "\n",
    "# Fix\n",
    "result = str(mixed_list[0]) + str(mixed_list[1])"
   ]
  },
  {
   "cell_type": "code",
   "execution_count": 9,
   "id": "fa7c17e7-299c-42bb-aceb-c248eb5b071c",
   "metadata": {},
   "outputs": [
    {
     "name": "stdout",
     "output_type": "stream",
     "text": [
      "Tuple: (1, 2, 3, 4, 5)\n",
      "First element: 1\n",
      "Last element: 5\n",
      "Slice [1:4]: (2, 3, 4)\n",
      "Combined tuple: (1, 2, 3, 4, 5, 6, 7)\n"
     ]
    }
   ],
   "source": [
    "numbers_tuple = (1, 2, 3, 4, 5)\n",
    "print(f\"Tuple: {numbers_tuple}\")\n",
    "\n",
    "print(f\"First element: {numbers_tuple[0]}\")\n",
    "print(f\"Last element: {numbers_tuple[-1]}\")\n",
    "\n",
    "print(f\"Slice [1:4]: {numbers_tuple[1:4]}\")\n",
    "\n",
    "another_tuple = (6, 7)\n",
    "combined_tuple = numbers_tuple + another_tuple\n",
    "print(f\"Combined tuple: {combined_tuple}\")\n"
   ]
  },
  {
   "cell_type": "code",
   "execution_count": 10,
   "id": "feef80c9-32a1-4762-b555-24cbc27d0ba3",
   "metadata": {},
   "outputs": [
    {
     "name": "stdout",
     "output_type": "stream",
     "text": [
      "Number: 1\n",
      "Number: 2\n",
      "Number: 3\n"
     ]
    }
   ],
   "source": [
    "numbers = [1, 2, 3]\n",
    "for number in numbers:\n",
    "    print(f\"Number: {number}\")"
   ]
  },
  {
   "cell_type": "code",
   "execution_count": 15,
   "id": "57535d49-dd7f-4d74-a032-a69e70def93a",
   "metadata": {},
   "outputs": [
    {
     "name": "stdout",
     "output_type": "stream",
     "text": [
      "Number: 1, Number: 2, Number: 3\n"
     ]
    }
   ],
   "source": [
    "numbers = [1, 2, 3]\n",
    "string = \"\"\n",
    "for number in numbers:\n",
    "    if number == numbers[-1]:\n",
    "        string += f\"Number: {number}\"\n",
    "    else:\n",
    "        string += f\"Number: {number}, \"\n",
    "print(string)\n",
    "    "
   ]
  },
  {
   "cell_type": "code",
   "execution_count": 16,
   "id": "08729cdc-4d6a-47b7-9c37-267b31a180f6",
   "metadata": {},
   "outputs": [
    {
     "name": "stdout",
     "output_type": "stream",
     "text": [
      "Added 10, Total so far: 10\n",
      "Added 20, Total so far: 30\n",
      "Added 30, Total so far: 60\n",
      "Added 40, Total so far: 100\n",
      "Added 50, Total so far: 150\n",
      "Average: 30.0\n"
     ]
    }
   ],
   "source": [
    "numbers = [ 10, 20, 30, 40, 50]\n",
    "\n",
    "total = 0\n",
    "count = 0\n",
    "\n",
    "for num in numbers:\n",
    "    total += num\n",
    "    count += 1\n",
    "    print(f\"Added {num}, Total so far: {total}\")\n",
    "\n",
    "average = total / count\n",
    "print(f\"Average: {average}\")"
   ]
  },
  {
   "cell_type": "code",
   "execution_count": 18,
   "id": "0bfb2726-8f6f-4e9a-ab54-0d438fdb89b8",
   "metadata": {},
   "outputs": [
    {
     "name": "stdout",
     "output_type": "stream",
     "text": [
      "Iteration: 0\n",
      "Iteration: 1\n",
      "Iteration: 2\n"
     ]
    }
   ],
   "source": [
    "i = 0\n",
    "while i < 3:\n",
    "    print(f\"Iteration: {i}\")\n",
    "    i += 1"
   ]
  },
  {
   "cell_type": "code",
   "execution_count": 19,
   "id": "a81dac40-a0c3-4f2e-b696-5a8f0b01cb86",
   "metadata": {},
   "outputs": [
    {
     "name": "stdin",
     "output_type": "stream",
     "text": [
      "Enter your guess:  3\n"
     ]
    },
    {
     "name": "stdout",
     "output_type": "stream",
     "text": [
      "Too low!\n"
     ]
    },
    {
     "name": "stdin",
     "output_type": "stream",
     "text": [
      "Enter your guess:  5\n"
     ]
    },
    {
     "name": "stdout",
     "output_type": "stream",
     "text": [
      "Too low!\n"
     ]
    },
    {
     "name": "stdin",
     "output_type": "stream",
     "text": [
      "Enter your guess:  10\n"
     ]
    },
    {
     "name": "stdout",
     "output_type": "stream",
     "text": [
      "Too low!\n"
     ]
    },
    {
     "name": "stdin",
     "output_type": "stream",
     "text": [
      "Enter your guess:  50\n"
     ]
    },
    {
     "name": "stdout",
     "output_type": "stream",
     "text": [
      "Too high!\n"
     ]
    },
    {
     "name": "stdin",
     "output_type": "stream",
     "text": [
      "Enter your guess:  42\n"
     ]
    },
    {
     "name": "stdout",
     "output_type": "stream",
     "text": [
      "Congratulations! 42 is the secret number.\n"
     ]
    }
   ],
   "source": [
    "secret = 42\n",
    "guess = -1\n",
    "\n",
    "while guess != secret:\n",
    "    guess = int(input(\"Enter your guess: \"))\n",
    "    if guess < secret:\n",
    "        print(\"Too low!\")\n",
    "    elif guess > secret:\n",
    "        print(\"Too high!\")\n",
    "print(f\"Congratulations! {secret} is the secret number.\")"
   ]
  },
  {
   "cell_type": "code",
   "execution_count": 25,
   "id": "5f520cbd-57c2-433f-9d7a-37a3b4c93005",
   "metadata": {},
   "outputs": [
    {
     "name": "stdout",
     "output_type": "stream",
     "text": [
      "0\n",
      "1\n",
      "2\n",
      "3\n",
      "4\n",
      "2\n",
      "3\n",
      "4\n",
      "5\n",
      "6\n",
      "1\n",
      "3\n",
      "5\n",
      "7\n",
      "9\n"
     ]
    }
   ],
   "source": [
    "for i in range(5):\n",
    "    print(i)\n",
    "\n",
    "for i in range(2, 7):\n",
    "    print(i)\n",
    "\n",
    "for i in range(1, 10, 2): # range(start, stop, step)\n",
    "    print(i)"
   ]
  },
  {
   "cell_type": "code",
   "execution_count": 27,
   "id": "73dfb85f-9ad3-4a79-b321-d6415da837f2",
   "metadata": {},
   "outputs": [
    {
     "name": "stdout",
     "output_type": "stream",
     "text": [
      "Processing odd number: 3\n",
      "Processing odd number: 5\n",
      "Processing odd number: 7\n",
      "Skipping small numbers: 1\n",
      "No even numbers found in the list.\n"
     ]
    }
   ],
   "source": [
    "numbers = [3, 5, 7, 1, 8, 2]\n",
    "\n",
    "for num in numbers:\n",
    "    if num < 2:\n",
    "        print(f\"Skipping small numbers: {num}\")\n",
    "        continue\n",
    "    if num % 2 == 0:\n",
    "        print(f\"Even number found: {num}\")\n",
    "        break\n",
    "    print(f\"Processing odd number: {num}\")\n",
    "else: #wtf idk this\n",
    "    print(\"No even numbers found in the list.\")"
   ]
  },
  {
   "cell_type": "code",
   "execution_count": null,
   "id": "cb75e44f-2ef7-4e07-b7b5-c62be5e99556",
   "metadata": {},
   "outputs": [],
   "source": []
  }
 ],
 "metadata": {
  "kernelspec": {
   "display_name": "Python 3 (ipykernel)",
   "language": "python",
   "name": "python3"
  },
  "language_info": {
   "codemirror_mode": {
    "name": "ipython",
    "version": 3
   },
   "file_extension": ".py",
   "mimetype": "text/x-python",
   "name": "python",
   "nbconvert_exporter": "python",
   "pygments_lexer": "ipython3",
   "version": "3.13.0"
  }
 },
 "nbformat": 4,
 "nbformat_minor": 5
}
